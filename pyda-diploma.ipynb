{
 "cells": [
  {
   "cell_type": "markdown",
   "metadata": {},
   "source": [
    "# Итоговая работа по курсу «Python и математика для анализа данных»"
   ]
  },
  {
   "cell_type": "markdown",
   "metadata": {
    "toc": true
   },
   "source": [
    "<h1>Table of Contents<span class=\"tocSkip\"></span></h1>\n",
    "<div class=\"toc\"><ul class=\"toc-item\"><li><span><a href=\"#Список-задач\" data-toc-modified-id=\"Список-задач-1\"><span class=\"toc-item-num\">1&nbsp;&nbsp;</span>Список задач</a></span></li><li><span><a href=\"#Загрузить-файл-hr.csv\" data-toc-modified-id=\"Загрузить-файл-hr.csv-2\"><span class=\"toc-item-num\">2&nbsp;&nbsp;</span>Загрузить файл hr.csv</a></span><ul class=\"toc-item\"><li><span><a href=\"#basic\" data-toc-modified-id=\"basic-2.1\"><span class=\"toc-item-num\">2.1&nbsp;&nbsp;</span>basic</a></span></li><li><span><a href=\"#pandas-profile-report\" data-toc-modified-id=\"pandas-profile-report-2.2\"><span class=\"toc-item-num\">2.2&nbsp;&nbsp;</span>pandas profile report</a></span></li></ul></li><li><span><a href=\"#Рассчитать-основные-статистики-для-переменных-(среднее,медиана,мода,мин/макс,сред.отклонение)\" data-toc-modified-id=\"Рассчитать-основные-статистики-для-переменных-(среднее,медиана,мода,мин/макс,сред.отклонение)-3\"><span class=\"toc-item-num\">3&nbsp;&nbsp;</span>Рассчитать основные статистики для переменных (среднее,медиана,мода,мин/макс,сред.отклонение)</a></span></li><li><span><a href=\"#Рассчитать-и-визуализировать-корреляционную-матрицу-для-переменных\" data-toc-modified-id=\"Рассчитать-и-визуализировать-корреляционную-матрицу-для-переменных-4\"><span class=\"toc-item-num\">4&nbsp;&nbsp;</span>Рассчитать и визуализировать корреляционную матрицу для переменных</a></span></li><li><span><a href=\"#Визуализировать-несколько-взаимосвязей-между-переменными\" data-toc-modified-id=\"Визуализировать-несколько-взаимосвязей-между-переменными-5\"><span class=\"toc-item-num\">5&nbsp;&nbsp;</span>Визуализировать несколько взаимосвязей между переменными</a></span></li><li><span><a href=\"#С-использованием-t-test-статистики-проверить-взаимосвязи-между-несколькими-переменными\" data-toc-modified-id=\"С-использованием-t-test-статистики-проверить-взаимосвязи-между-несколькими-переменными-6\"><span class=\"toc-item-num\">6&nbsp;&nbsp;</span>С использованием t-test статистики проверить взаимосвязи между несколькими переменными</a></span></li><li><span><a href=\"#Рассчитать-сколько-работников-работает-в-каждом-департаменте\" data-toc-modified-id=\"Рассчитать-сколько-работников-работает-в-каждом-департаменте-7\"><span class=\"toc-item-num\">7&nbsp;&nbsp;</span>Рассчитать сколько работников работает в каждом департаменте</a></span></li><li><span><a href=\"#Показать-распределение-сотрудников-по-зарплатам\" data-toc-modified-id=\"Показать-распределение-сотрудников-по-зарплатам-8\"><span class=\"toc-item-num\">8&nbsp;&nbsp;</span>Показать распределение сотрудников по зарплатам</a></span></li><li><span><a href=\"#Показать-распределение-сотрудников-по-зарплатам-совместно-с-департаментами\" data-toc-modified-id=\"Показать-распределение-сотрудников-по-зарплатам-совместно-с-департаментами-9\"><span class=\"toc-item-num\">9&nbsp;&nbsp;</span>Показать распределение сотрудников по зарплатам совместно с департаментами</a></span></li><li><span><a href=\"#Сколько-сотрудников-покинули-компанию\" data-toc-modified-id=\"Сколько-сотрудников-покинули-компанию-10\"><span class=\"toc-item-num\">10&nbsp;&nbsp;</span>Сколько сотрудников покинули компанию</a></span></li><li><span><a href=\"#Проверить-несколько-гипотез-для-данных,-чтобы-понять-почему-сотрудники-покидают-компанию\" data-toc-modified-id=\"Проверить-несколько-гипотез-для-данных,-чтобы-понять-почему-сотрудники-покидают-компанию-11\"><span class=\"toc-item-num\">11&nbsp;&nbsp;</span>Проверить несколько гипотез для данных, чтобы понять почему сотрудники покидают компанию</a></span><ul class=\"toc-item\"><li><span><a href=\"#Определение-текучести-кадров\" data-toc-modified-id=\"Определение-текучести-кадров-11.1\"><span class=\"toc-item-num\">11.1&nbsp;&nbsp;</span>Определение текучести кадров</a></span></li><li><span><a href=\"#Гипотезы\" data-toc-modified-id=\"Гипотезы-11.2\"><span class=\"toc-item-num\">11.2&nbsp;&nbsp;</span>Гипотезы</a></span></li><li><span><a href=\"#Проверка-гипотез\" data-toc-modified-id=\"Проверка-гипотез-11.3\"><span class=\"toc-item-num\">11.3&nbsp;&nbsp;</span>Проверка гипотез</a></span></li><li><span><a href=\"#Выводы\" data-toc-modified-id=\"Выводы-11.4\"><span class=\"toc-item-num\">11.4&nbsp;&nbsp;</span>Выводы</a></span></li></ul></li></ul></div>"
   ]
  },
  {
   "cell_type": "code",
   "execution_count": 5,
   "metadata": {
    "ExecuteTime": {
     "end_time": "2020-03-08T14:55:34.703369Z",
     "start_time": "2020-03-08T14:55:34.691369Z"
    }
   },
   "outputs": [],
   "source": [
    "from IPython.display import IFrame\n",
    "from IPython.display import Image\n",
    "import matplotlib.pyplot as plt\n",
    "import pandas as pd\n",
    "import pandas_profiling\n",
    "import seaborn as sns\n",
    "import statistics as stats\n",
    "%matplotlib inline"
   ]
  },
  {
   "cell_type": "markdown",
   "metadata": {},
   "source": [
    "## Список задач"
   ]
  },
  {
   "cell_type": "markdown",
   "metadata": {},
   "source": [
    "Проектная работа по модулю “Математика и статистика в Python”\n",
    "1. Загрузить файл hr.csv.\n",
    "2. Рассчитать основные статистики для переменных (среднее,медиана,мода,мин/макс,сред.отклонение).\n",
    "3. Рассчитать и визуализировать корреляционную матрицу для переменных.\n",
    "4. Визуализировать несколько взаимосвязей между переменными.\n",
    "5. С использованием t-test статистики проверить взаимосвязи между несколькими переменными.\n",
    "6. Рассчитать сколько работников работает в каждом департаменте.\n",
    "7. Показать распределение сотрудников по зарплатам.\n",
    "8. Показать распределение сотрудников по зарплатам совместно с департаментами.\n",
    "9. Сколько сотрудников покинули компанию.\n",
    "10. Проверить несколько гипотез для данных, чтобы понять почему сотрудники покидают компанию.\n",
    "11. Загрузить результат (в формате .ipynb ноутбука) в репозиторий. Разместить ссылку на репозиторий в Личном кабинете"
   ]
  },
  {
   "cell_type": "markdown",
   "metadata": {},
   "source": [
    "## Загрузить файл hr.csv"
   ]
  },
  {
   "cell_type": "markdown",
   "metadata": {},
   "source": [
    "### basic"
   ]
  },
  {
   "cell_type": "code",
   "execution_count": 6,
   "metadata": {
    "ExecuteTime": {
     "end_time": "2020-03-08T14:55:36.173453Z",
     "start_time": "2020-03-08T14:55:36.151452Z"
    }
   },
   "outputs": [],
   "source": [
    "dataset = pd.read_csv('HR.csv')"
   ]
  },
  {
   "cell_type": "code",
   "execution_count": 7,
   "metadata": {
    "ExecuteTime": {
     "end_time": "2020-03-08T14:55:36.347463Z",
     "start_time": "2020-03-08T14:55:36.343463Z"
    }
   },
   "outputs": [
    {
     "data": {
      "text/plain": [
       "Index(['satisfaction_level', 'last_evaluation', 'number_project',\n",
       "       'average_montly_hours', 'time_spend_company', 'Work_accident', 'left',\n",
       "       'promotion_last_5years', 'sales', 'salary'],\n",
       "      dtype='object')"
      ]
     },
     "execution_count": 7,
     "metadata": {},
     "output_type": "execute_result"
    }
   ],
   "source": [
    "dataset.columns"
   ]
  },
  {
   "cell_type": "code",
   "execution_count": 8,
   "metadata": {
    "ExecuteTime": {
     "end_time": "2020-03-08T14:55:36.525474Z",
     "start_time": "2020-03-08T14:55:36.512473Z"
    }
   },
   "outputs": [
    {
     "data": {
      "image/jpeg": "[encoded data removed]",
      "text/plain": [
       "<IPython.core.display.Image object>"
      ]
     },
     "execution_count": 8,
     "metadata": {},
     "output_type": "execute_result"
    }
   ],
   "source": [
    "Image(\"description.jpg\")"
   ]
  },
  {
   "cell_type": "code",
   "execution_count": 9,
   "metadata": {
    "ExecuteTime": {
     "end_time": "2020-03-08T14:55:36.714484Z",
     "start_time": "2020-03-08T14:55:36.704484Z"
    }
   },
   "outputs": [
    {
     "name": "stdout",
     "output_type": "stream",
     "text": [
      "<class 'pandas.core.frame.DataFrame'>\n",
      "RangeIndex: 14999 entries, 0 to 14998\n",
      "Data columns (total 10 columns):\n",
      "satisfaction_level       14999 non-null float64\n",
      "last_evaluation          14999 non-null float64\n",
      "number_project           14999 non-null int64\n",
      "average_montly_hours     14999 non-null int64\n",
      "time_spend_company       14999 non-null int64\n",
      "Work_accident            14999 non-null int64\n",
      "left                     14999 non-null int64\n",
      "promotion_last_5years    14999 non-null int64\n",
      "sales                    14999 non-null object\n",
      "salary                   14999 non-null object\n",
      "dtypes: float64(2), int64(6), object(2)\n",
      "memory usage: 1.1+ MB\n"
     ]
    }
   ],
   "source": [
    "dataset.info()"
   ]
  },
  {
   "cell_type": "code",
   "execution_count": 10,
   "metadata": {
    "ExecuteTime": {
     "end_time": "2020-03-08T14:55:36.900495Z",
     "start_time": "2020-03-08T14:55:36.886494Z"
    }
   },
   "outputs": [
    {
     "data": {
      "text/html": [
       "<div>\n",
       "<style scoped>\n",
       "    .dataframe tbody tr th:only-of-type {\n",
       "        vertical-align: middle;\n",
       "    }\n",
       "\n",
       "    .dataframe tbody tr th {\n",
       "        vertical-align: top;\n",
       "    }\n",
       "\n",
       "    .dataframe thead th {\n",
       "        text-align: right;\n",
       "    }\n",
       "</style>\n",
       "<table border=\"1\" class=\"dataframe\">\n",
       "  <thead>\n",
       "    <tr style=\"text-align: right;\">\n",
       "      <th></th>\n",
       "      <th>satisfaction_level</th>\n",
       "      <th>last_evaluation</th>\n",
       "      <th>number_project</th>\n",
       "      <th>average_montly_hours</th>\n",
       "      <th>time_spend_company</th>\n",
       "      <th>Work_accident</th>\n",
       "      <th>left</th>\n",
       "      <th>promotion_last_5years</th>\n",
       "      <th>sales</th>\n",
       "      <th>salary</th>\n",
       "    </tr>\n",
       "  </thead>\n",
       "  <tbody>\n",
       "    <tr>\n",
       "      <th>0</th>\n",
       "      <td>0.38</td>\n",
       "      <td>0.53</td>\n",
       "      <td>2</td>\n",
       "      <td>157</td>\n",
       "      <td>3</td>\n",
       "      <td>0</td>\n",
       "      <td>1</td>\n",
       "      <td>0</td>\n",
       "      <td>sales</td>\n",
       "      <td>low</td>\n",
       "    </tr>\n",
       "    <tr>\n",
       "      <th>1</th>\n",
       "      <td>0.80</td>\n",
       "      <td>0.86</td>\n",
       "      <td>5</td>\n",
       "      <td>262</td>\n",
       "      <td>6</td>\n",
       "      <td>0</td>\n",
       "      <td>1</td>\n",
       "      <td>0</td>\n",
       "      <td>sales</td>\n",
       "      <td>medium</td>\n",
       "    </tr>\n",
       "    <tr>\n",
       "      <th>2</th>\n",
       "      <td>0.11</td>\n",
       "      <td>0.88</td>\n",
       "      <td>7</td>\n",
       "      <td>272</td>\n",
       "      <td>4</td>\n",
       "      <td>0</td>\n",
       "      <td>1</td>\n",
       "      <td>0</td>\n",
       "      <td>sales</td>\n",
       "      <td>medium</td>\n",
       "    </tr>\n",
       "    <tr>\n",
       "      <th>3</th>\n",
       "      <td>0.72</td>\n",
       "      <td>0.87</td>\n",
       "      <td>5</td>\n",
       "      <td>223</td>\n",
       "      <td>5</td>\n",
       "      <td>0</td>\n",
       "      <td>1</td>\n",
       "      <td>0</td>\n",
       "      <td>sales</td>\n",
       "      <td>low</td>\n",
       "    </tr>\n",
       "    <tr>\n",
       "      <th>4</th>\n",
       "      <td>0.37</td>\n",
       "      <td>0.52</td>\n",
       "      <td>2</td>\n",
       "      <td>159</td>\n",
       "      <td>3</td>\n",
       "      <td>0</td>\n",
       "      <td>1</td>\n",
       "      <td>0</td>\n",
       "      <td>sales</td>\n",
       "      <td>low</td>\n",
       "    </tr>\n",
       "  </tbody>\n",
       "</table>\n",
       "</div>"
      ],
      "text/plain": [
       "   satisfaction_level  last_evaluation  number_project  average_montly_hours  \\\n",
       "0                0.38             0.53               2                   157   \n",
       "1                0.80             0.86               5                   262   \n",
       "2                0.11             0.88               7                   272   \n",
       "3                0.72             0.87               5                   223   \n",
       "4                0.37             0.52               2                   159   \n",
       "\n",
       "   time_spend_company  Work_accident  left  promotion_last_5years  sales  \\\n",
       "0                   3              0     1                      0  sales   \n",
       "1                   6              0     1                      0  sales   \n",
       "2                   4              0     1                      0  sales   \n",
       "3                   5              0     1                      0  sales   \n",
       "4                   3              0     1                      0  sales   \n",
       "\n",
       "   salary  \n",
       "0     low  \n",
       "1  medium  \n",
       "2  medium  \n",
       "3     low  \n",
       "4     low  "
      ]
     },
     "execution_count": 10,
     "metadata": {},
     "output_type": "execute_result"
    }
   ],
   "source": [
    "dataset.head()"
   ]
  },
  {
   "cell_type": "code",
   "execution_count": 11,
   "metadata": {
    "ExecuteTime": {
     "end_time": "2020-03-08T14:55:37.090506Z",
     "start_time": "2020-03-08T14:55:37.077505Z"
    }
   },
   "outputs": [
    {
     "data": {
      "text/plain": [
       "3008"
      ]
     },
     "execution_count": 11,
     "metadata": {},
     "output_type": "execute_result"
    }
   ],
   "source": [
    "dataset.duplicated().sum()"
   ]
  },
  {
   "cell_type": "markdown",
   "metadata": {},
   "source": [
    "В нашем датасете отсутствуют id сотрудников, так что\n",
    "у нас вполне могут быть сотрудники, задействованные на одном проекте, работающие в одном отделе с одинаковой годовой оценкой и т.д. (коллеги).\n",
    "\n",
    "Пример такой выборки:"
   ]
  },
  {
   "cell_type": "code",
   "execution_count": null,
   "metadata": {
    "ExecuteTime": {
     "end_time": "2020-03-08T13:33:25.998464Z",
     "start_time": "2020-03-08T13:33:25.967462Z"
    }
   },
   "outputs": [],
   "source": [
    "dataset[(dataset.duplicated()==True)\n",
    "        &(dataset['satisfaction_level']==0.46)\n",
    "        & (dataset['number_project']==2)\n",
    "        & (dataset['last_evaluation'] > 0.50)\n",
    "        & (dataset['sales']=='sales')\n",
    "        & (dataset['average_montly_hours']==139)\n",
    "       ]"
   ]
  },
  {
   "cell_type": "markdown",
   "metadata": {},
   "source": [
    "**Дубликаты не удаляем.**"
   ]
  },
  {
   "cell_type": "markdown",
   "metadata": {},
   "source": [
    "### pandas profile report"
   ]
  },
  {
   "cell_type": "code",
   "execution_count": null,
   "metadata": {
    "ExecuteTime": {
     "end_time": "2020-03-08T13:33:42.342398Z",
     "start_time": "2020-03-08T13:33:26.000464Z"
    }
   },
   "outputs": [],
   "source": [
    "dataset.profile_report()"
   ]
  },
  {
   "cell_type": "markdown",
   "metadata": {},
   "source": [
    "## Рассчитать основные статистики для переменных (среднее,медиана,мода,мин/макс,сред.отклонение)"
   ]
  },
  {
   "cell_type": "code",
   "execution_count": null,
   "metadata": {
    "ExecuteTime": {
     "end_time": "2020-03-08T13:33:42.401402Z",
     "start_time": "2020-03-08T13:33:42.344399Z"
    }
   },
   "outputs": [],
   "source": [
    "dataset.describe()"
   ]
  },
  {
   "cell_type": "code",
   "execution_count": null,
   "metadata": {
    "ExecuteTime": {
     "end_time": "2020-03-08T13:33:42.456405Z",
     "start_time": "2020-03-08T13:33:42.402402Z"
    }
   },
   "outputs": [],
   "source": [
    "dataset.median()"
   ]
  },
  {
   "cell_type": "code",
   "execution_count": null,
   "metadata": {
    "ExecuteTime": {
     "end_time": "2020-03-08T13:33:42.479406Z",
     "start_time": "2020-03-08T13:33:42.459405Z"
    }
   },
   "outputs": [],
   "source": [
    "dataset.select_dtypes(include='object').mode()"
   ]
  },
  {
   "cell_type": "code",
   "execution_count": null,
   "metadata": {
    "ExecuteTime": {
     "end_time": "2020-03-08T13:33:42.521409Z",
     "start_time": "2020-03-08T13:33:42.481406Z"
    }
   },
   "outputs": [],
   "source": [
    "dataset.mode()"
   ]
  },
  {
   "cell_type": "markdown",
   "metadata": {},
   "source": [
    "## Рассчитать и визуализировать корреляционную матрицу для переменных"
   ]
  },
  {
   "cell_type": "code",
   "execution_count": null,
   "metadata": {
    "ExecuteTime": {
     "end_time": "2020-03-08T13:44:33.406637Z",
     "start_time": "2020-03-08T13:44:33.387636Z"
    }
   },
   "outputs": [],
   "source": [
    "corr_matrix = dataset.corr()\n",
    "corr_matrix"
   ]
  },
  {
   "cell_type": "code",
   "execution_count": null,
   "metadata": {
    "ExecuteTime": {
     "end_time": "2020-03-08T13:44:36.077790Z",
     "start_time": "2020-03-08T13:44:35.441754Z"
    }
   },
   "outputs": [],
   "source": [
    "sns.set(rc=({'figure.figsize':(15, 10)}))\n",
    "sns.heatmap(corr_matrix, annot=True, xticklabels=corr_matrix.columns.values, yticklabels=corr_matrix.columns.values)"
   ]
  },
  {
   "cell_type": "markdown",
   "metadata": {},
   "source": [
    "## Визуализировать несколько взаимосвязей между переменными"
   ]
  },
  {
   "cell_type": "code",
   "execution_count": null,
   "metadata": {
    "ExecuteTime": {
     "end_time": "2020-03-08T13:43:26.609817Z",
     "start_time": "2020-03-08T13:43:20.317457Z"
    }
   },
   "outputs": [],
   "source": [
    "sns.pairplot(dataset,vars=['last_evaluation', 'average_montly_hours', 'satisfaction_level', 'left'], kind=\"scatter\")"
   ]
  },
  {
   "cell_type": "markdown",
   "metadata": {},
   "source": [
    "## С использованием t-test статистики проверить взаимосвязи между несколькими переменными"
   ]
  },
  {
   "cell_type": "code",
   "execution_count": null,
   "metadata": {},
   "outputs": [],
   "source": []
  },
  {
   "cell_type": "markdown",
   "metadata": {
    "heading_collapsed": true
   },
   "source": [
    "## Рассчитать сколько работников работает в каждом департаменте"
   ]
  },
  {
   "cell_type": "code",
   "execution_count": null,
   "metadata": {
    "ExecuteTime": {
     "end_time": "2020-03-08T13:33:54.303083Z",
     "start_time": "2020-03-08T13:33:54.279081Z"
    },
    "hidden": true
   },
   "outputs": [],
   "source": [
    "pd.merge(\n",
    "        dataset.sales.value_counts().to_frame().reset_index(),\n",
    "        dataset.sales.value_counts(normalize=True).round(4).to_frame().reset_index(),\n",
    "        how='left', on='index', suffixes=['_count', '_perc']\n",
    "        )"
   ]
  },
  {
   "cell_type": "code",
   "execution_count": null,
   "metadata": {
    "ExecuteTime": {
     "end_time": "2020-03-08T13:33:54.504094Z",
     "start_time": "2020-03-08T13:33:54.307083Z"
    },
    "hidden": true
   },
   "outputs": [],
   "source": [
    "dataset.sales.value_counts().plot(kind='pie')"
   ]
  },
  {
   "cell_type": "markdown",
   "metadata": {
    "heading_collapsed": true
   },
   "source": [
    "## Показать распределение сотрудников по зарплатам"
   ]
  },
  {
   "cell_type": "code",
   "execution_count": null,
   "metadata": {
    "ExecuteTime": {
     "end_time": "2020-03-08T13:33:54.532096Z",
     "start_time": "2020-03-08T13:33:54.507094Z"
    },
    "hidden": true
   },
   "outputs": [],
   "source": [
    "pd.merge(\n",
    "        dataset['salary'].value_counts().to_frame().reset_index(),\n",
    "        dataset['salary'].value_counts(normalize=True).round(4).to_frame().reset_index(),\n",
    "        how='left', on='index', suffixes=['_count', '_perc']\n",
    "        )"
   ]
  },
  {
   "cell_type": "code",
   "execution_count": null,
   "metadata": {
    "ExecuteTime": {
     "end_time": "2020-03-08T13:33:54.685104Z",
     "start_time": "2020-03-08T13:33:54.534096Z"
    },
    "hidden": true
   },
   "outputs": [],
   "source": [
    "dataset.salary.value_counts().plot(kind='pie')"
   ]
  },
  {
   "cell_type": "markdown",
   "metadata": {},
   "source": [
    "## Показать распределение сотрудников по зарплатам совместно с департаментами"
   ]
  },
  {
   "cell_type": "code",
   "execution_count": null,
   "metadata": {
    "ExecuteTime": {
     "end_time": "2020-03-08T13:56:02.817069Z",
     "start_time": "2020-03-08T13:56:02.793068Z"
    }
   },
   "outputs": [],
   "source": [
    "dataset.groupby(['sales'])['salary'].value_counts(normalize=True).to_frame().unstack().round(3)*100"
   ]
  },
  {
   "cell_type": "code",
   "execution_count": null,
   "metadata": {
    "ExecuteTime": {
     "end_time": "2020-03-08T13:55:22.011735Z",
     "start_time": "2020-03-08T13:55:21.570710Z"
    }
   },
   "outputs": [],
   "source": [
    "dataset.groupby(['sales'])['salary'].value_counts(normalize=True).to_frame().unstack().plot(kind='bar', stacked=True)"
   ]
  },
  {
   "cell_type": "markdown",
   "metadata": {},
   "source": [
    "Здесь мы можем увидеть, что распределение зарплат внутри отделов примерно одинаковое за исключением управленческого деартамента, в котором доля зарплат высокго уровня значительно выше, чем в остальных департаментах _(зарплаты уровней низкий и средний соответственно ниже)_."
   ]
  },
  {
   "cell_type": "markdown",
   "metadata": {},
   "source": [
    "Посмотрим на распределение зарплат по департаментам без отдела менеджмента."
   ]
  },
  {
   "cell_type": "code",
   "execution_count": null,
   "metadata": {
    "ExecuteTime": {
     "end_time": "2020-03-08T13:33:55.623158Z",
     "start_time": "2020-03-08T13:33:55.186133Z"
    }
   },
   "outputs": [],
   "source": [
    "(\n",
    "dataset\n",
    "     .query('sales != \"management\"')\n",
    "     .groupby(['sales'])['salary']\n",
    "     .value_counts(normalize=True)\n",
    "     .to_frame().unstack()\n",
    ").plot(kind='bar', stacked=True)"
   ]
  },
  {
   "cell_type": "markdown",
   "metadata": {},
   "source": [
    "Из столбчатой диаграммы не очень понятно присутствуют ли еще какие-либо различия в распределении зарплат\n",
    "\n",
    "Постороим боксплот"
   ]
  },
  {
   "cell_type": "code",
   "execution_count": null,
   "metadata": {
    "ExecuteTime": {
     "end_time": "2020-03-08T13:33:55.930176Z",
     "start_time": "2020-03-08T13:33:55.625158Z"
    }
   },
   "outputs": [],
   "source": [
    "(\n",
    "dataset\n",
    "    .query('sales != \"management\"')\n",
    "    .groupby(['sales'])['salary']\n",
    "    .value_counts(normalize=True)\n",
    "    .to_frame().unstack()\n",
    "    #.describe()\n",
    ").boxplot()"
   ]
  },
  {
   "cell_type": "markdown",
   "metadata": {},
   "source": [
    "Выбросы есть, но не ясно в каких департаментах"
   ]
  },
  {
   "cell_type": "code",
   "execution_count": null,
   "metadata": {
    "ExecuteTime": {
     "end_time": "2020-03-08T14:04:35.792410Z",
     "start_time": "2020-03-08T14:04:35.765408Z"
    }
   },
   "outputs": [],
   "source": [
    "medium_ = (dataset\n",
    "    .query('sales != \"management\"')\n",
    "    .groupby(['sales'])['salary']\n",
    "    .value_counts(normalize=True)\n",
    "    .unstack().sort_values(by='medium')\n",
    ").tail(2).index\n",
    "\n",
    "high_ = (dataset\n",
    "    .query('sales != \"management\"')\n",
    "    .groupby(['sales'])['salary']\n",
    "    .value_counts(normalize=True)\n",
    "    .unstack().sort_values(by='high')\n",
    ").tail(2).index"
   ]
  },
  {
   "cell_type": "code",
   "execution_count": null,
   "metadata": {
    "ExecuteTime": {
     "end_time": "2020-03-08T14:09:13.238279Z",
     "start_time": "2020-03-08T14:09:13.232278Z"
    }
   },
   "outputs": [],
   "source": [
    "print(f'{medium_.to_list()}\\n{high_.to_list()}')"
   ]
  },
  {
   "cell_type": "markdown",
   "metadata": {},
   "source": [
    " - В отделе менеджмента уровень зарплат выше\n",
    " - Средний уровень зарплат чаще встречается в отделе кадров и отделе НИОКР\n",
    " - Высокий уровень зарплат чаще встречается в отделах маркетинга и  бухгалтерии"
   ]
  },
  {
   "cell_type": "markdown",
   "metadata": {
    "heading_collapsed": true
   },
   "source": [
    "## Сколько сотрудников покинули компанию"
   ]
  },
  {
   "cell_type": "code",
   "execution_count": null,
   "metadata": {
    "ExecuteTime": {
     "end_time": "2020-03-08T13:33:55.962177Z",
     "start_time": "2020-03-08T13:33:55.952177Z"
    },
    "hidden": true
   },
   "outputs": [],
   "source": [
    "dataset.left.sum()"
   ]
  },
  {
   "cell_type": "markdown",
   "metadata": {
    "hidden": true
   },
   "source": [
    "Компанию покинуло 3571 человек"
   ]
  },
  {
   "cell_type": "markdown",
   "metadata": {},
   "source": [
    "## Проверить несколько гипотез для данных, чтобы понять почему сотрудники покидают компанию"
   ]
  },
  {
   "cell_type": "markdown",
   "metadata": {},
   "source": [
    "### Определение текучести кадров "
   ]
  },
  {
   "cell_type": "markdown",
   "metadata": {},
   "source": [
    "Минутка гуглежа"
   ]
  },
  {
   "cell_type": "code",
   "execution_count": 3,
   "metadata": {
    "ExecuteTime": {
     "end_time": "2020-03-08T14:46:59.000873Z",
     "start_time": "2020-03-08T14:46:58.993873Z"
    }
   },
   "outputs": [
    {
     "data": {
      "text/html": [
       "\n",
       "        <iframe\n",
       "            width=\"900\"\n",
       "            height=\"600\"\n",
       "            src=\"https://ru.wikipedia.org/wiki/%D0%A2%D0%B5%D0%BA%D1%83%D1%87%D0%B5%D1%81%D1%82%D1%8C_%D0%BA%D0%B0%D0%B4%D1%80%D0%BE%D0%B2\"\n",
       "            frameborder=\"0\"\n",
       "            allowfullscreen\n",
       "        ></iframe>\n",
       "        "
      ],
      "text/plain": [
       "<IPython.lib.display.IFrame at 0x16f01ec8>"
      ]
     },
     "execution_count": 3,
     "metadata": {},
     "output_type": "execute_result"
    }
   ],
   "source": [
    "IFrame('https://ru.wikipedia.org/wiki/%D0%A2%D0%B5%D0%BA%D1%83%D1%87%D0%B5%D1%81%D1%82%D1%8C_%D0%BA%D0%B0%D0%B4%D1%80%D0%BE%D0%B2', width=900, height=600)"
   ]
  },
  {
   "cell_type": "markdown",
   "metadata": {},
   "source": [
    "**Из статьи мы узнали:**\n",
    " - 3-5% в год это нормально\n",
    " - высокая текучесть это плохо\n",
    " - экстремально низкая тоже плохо"
   ]
  },
  {
   "cell_type": "markdown",
   "metadata": {},
   "source": [
    "Также на стали известны \n",
    "**факторы, влияющие на текучесть кадров:**\n",
    "- Материальные (неконкурентоспособные ставки оплаты, несправедливая структура оплаты, нестабильные заработки);\n",
    "- Организационные (график, режим, условия работы не соответствующие ожиданиям сотрудника, отсутствие возможности карьерного роста, повышения квалификации);\n",
    "- Межличностные (взаимоотношения с руководством и коллегами).\n",
    "- Возраст сотрудника (наиболее рискованный возраст перехода на другую работу до 25 лет);\n",
    "- Квалификация сотрудника (чем ниже квалификация, тем чаще меняют работу);\n",
    "- Место жительства сотрудника (чем дальше сотрудник живет от работы, тем больше риск его ухода);\n",
    "- Стаж работы на предприятии (после трех лет стажа происходит резкое снижение текучести, что объясняется как фактором возраста, так и проблемами адаптации).\n",
    "\n",
    "На основе этих фактором можно выдвинуть некоторые гипотезы."
   ]
  },
  {
   "cell_type": "markdown",
   "metadata": {},
   "source": [
    "### Гипотезы"
   ]
  },
  {
   "cell_type": "markdown",
   "metadata": {},
   "source": []
  },
  {
   "cell_type": "code",
   "execution_count": null,
   "metadata": {
    "ExecuteTime": {
     "end_time": "2020-03-08T13:33:55.993179Z",
     "start_time": "2020-03-08T13:33:55.986179Z"
    }
   },
   "outputs": [],
   "source": [
    "employees_lefted = dataset[ dataset['left']==1 ]"
   ]
  },
  {
   "cell_type": "code",
   "execution_count": null,
   "metadata": {
    "ExecuteTime": {
     "end_time": "2020-03-08T14:11:54.722515Z",
     "start_time": "2020-03-08T14:11:54.704514Z"
    }
   },
   "outputs": [],
   "source": [
    "employees_lefted.head(15)"
   ]
  },
  {
   "cell_type": "markdown",
   "metadata": {},
   "source": [
    "### Проверка гипотез"
   ]
  },
  {
   "cell_type": "code",
   "execution_count": null,
   "metadata": {},
   "outputs": [],
   "source": []
  },
  {
   "cell_type": "markdown",
   "metadata": {},
   "source": [
    "### Выводы"
   ]
  },
  {
   "cell_type": "code",
   "execution_count": null,
   "metadata": {},
   "outputs": [],
   "source": []
  }
 ],
 "metadata": {
  "hide_input": false,
  "kernelspec": {
   "display_name": "Python 3",
   "language": "python",
   "name": "python3"
  },
  "language_info": {
   "codemirror_mode": {
    "name": "ipython",
    "version": 3
   },
   "file_extension": ".py",
   "mimetype": "text/x-python",
   "name": "python",
   "nbconvert_exporter": "python",
   "pygments_lexer": "ipython3",
   "version": "3.7.6"
  },
  "toc": {
   "base_numbering": 1,
   "nav_menu": {},
   "number_sections": true,
   "sideBar": true,
   "skip_h1_title": true,
   "title_cell": "Table of Contents",
   "title_sidebar": "Contents",
   "toc_cell": true,
   "toc_position": {},
   "toc_section_display": true,
   "toc_window_display": false
  },
  "varInspector": {
   "cols": {
    "lenName": 16,
    "lenType": 16,
    "lenVar": 40
   },
   "kernels_config": {
    "python": {
     "delete_cmd_postfix": "",
     "delete_cmd_prefix": "del ",
     "library": "var_list.py",
     "varRefreshCmd": "print(var_dic_list())"
    },
    "r": {
     "delete_cmd_postfix": ") ",
     "delete_cmd_prefix": "rm(",
     "library": "var_list.r",
     "varRefreshCmd": "cat(var_dic_list()) "
    }
   },
   "position": {
    "height": "144px",
    "left": "894px",
    "right": "20px",
    "top": "119px",
    "width": "350px"
   },
   "types_to_exclude": [
    "module",
    "function",
    "builtin_function_or_method",
    "instance",
    "_Feature"
   ],
   "window_display": false
  }
 },
 "nbformat": 4,
 "nbformat_minor": 4
}
