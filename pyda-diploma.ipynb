{
 "cells": [
  {
   "cell_type": "markdown",
   "metadata": {},
   "source": [
    "# Итоговая работа по курсу «Python и математика для анализа данных»"
   ]
  },
  {
   "cell_type": "markdown",
   "metadata": {
    "toc": true
   },
   "source": [
    "<h1>Table of Contents<span class=\"tocSkip\"></span></h1>\n",
    "<div class=\"toc\"><ul class=\"toc-item\"><li><span><a href=\"#Список-задач\" data-toc-modified-id=\"Список-задач-1\"><span class=\"toc-item-num\">1&nbsp;&nbsp;</span>Список задач</a></span></li><li><span><a href=\"#Загрузить-файл-hr.csv\" data-toc-modified-id=\"Загрузить-файл-hr.csv-2\"><span class=\"toc-item-num\">2&nbsp;&nbsp;</span>Загрузить файл hr.csv</a></span></li><li><span><a href=\"#Рассчитать-основные-статистики-для-переменных-(среднее,медиана,мода,мин/макс,сред.отклонение)\" data-toc-modified-id=\"Рассчитать-основные-статистики-для-переменных-(среднее,медиана,мода,мин/макс,сред.отклонение)-3\"><span class=\"toc-item-num\">3&nbsp;&nbsp;</span>Рассчитать основные статистики для переменных (среднее,медиана,мода,мин/макс,сред.отклонение)</a></span></li><li><span><a href=\"#Рассчитать-и-визуализировать-корреляционную-матрицу-для-переменных\" data-toc-modified-id=\"Рассчитать-и-визуализировать-корреляционную-матрицу-для-переменных-4\"><span class=\"toc-item-num\">4&nbsp;&nbsp;</span>Рассчитать и визуализировать корреляционную матрицу для переменных</a></span></li><li><span><a href=\"#Визуализировать-несколько-взаимосвязей-между-переменными\" data-toc-modified-id=\"Визуализировать-несколько-взаимосвязей-между-переменными-5\"><span class=\"toc-item-num\">5&nbsp;&nbsp;</span>Визуализировать несколько взаимосвязей между переменными</a></span></li><li><span><a href=\"#С-использованием-t-test-статистики-проверить-взаимосвязи-между-несколькими-переменными\" data-toc-modified-id=\"С-использованием-t-test-статистики-проверить-взаимосвязи-между-несколькими-переменными-6\"><span class=\"toc-item-num\">6&nbsp;&nbsp;</span>С использованием t-test статистики проверить взаимосвязи между несколькими переменными</a></span><ul class=\"toc-item\"><li><span><a href=\"#Сотрудники-IT-так-же-удовлетворены-работой-в-компании-как-и-сотрудники-HR-отдела\" data-toc-modified-id=\"Сотрудники-IT-так-же-удовлетворены-работой-в-компании-как-и-сотрудники-HR-отдела-6.1\"><span class=\"toc-item-num\">6.1&nbsp;&nbsp;</span>Сотрудники IT так же удовлетворены работой в компании как и сотрудники HR отдела</a></span></li><li><span><a href=\"#Руководители-столько-же-часов-сколько-и-подчиненные.\" data-toc-modified-id=\"Руководители-столько-же-часов-сколько-и-подчиненные.-6.2\"><span class=\"toc-item-num\">6.2&nbsp;&nbsp;</span>Руководители столько же часов сколько и подчиненные.</a></span></li><li><span><a href=\"#У-сотрудников-получавших-повышение-оценка-такая-же-как-у-не-получавших.\" data-toc-modified-id=\"У-сотрудников-получавших-повышение-оценка-такая-же-как-у-не-получавших.-6.3\"><span class=\"toc-item-num\">6.3&nbsp;&nbsp;</span>У сотрудников получавших повышение оценка такая же как у не получавших.</a></span></li></ul></li><li><span><a href=\"#Рассчитать-сколько-работников-работает-в-каждом-департаменте\" data-toc-modified-id=\"Рассчитать-сколько-работников-работает-в-каждом-департаменте-7\"><span class=\"toc-item-num\">7&nbsp;&nbsp;</span>Рассчитать сколько работников работает в каждом департаменте</a></span></li><li><span><a href=\"#Показать-распределение-сотрудников-по-зарплатам\" data-toc-modified-id=\"Показать-распределение-сотрудников-по-зарплатам-8\"><span class=\"toc-item-num\">8&nbsp;&nbsp;</span>Показать распределение сотрудников по зарплатам</a></span></li><li><span><a href=\"#Показать-распределение-сотрудников-по-зарплатам-совместно-с-департаментами\" data-toc-modified-id=\"Показать-распределение-сотрудников-по-зарплатам-совместно-с-департаментами-9\"><span class=\"toc-item-num\">9&nbsp;&nbsp;</span>Показать распределение сотрудников по зарплатам совместно с департаментами</a></span></li><li><span><a href=\"#Сколько-сотрудников-покинули-компанию\" data-toc-modified-id=\"Сколько-сотрудников-покинули-компанию-10\"><span class=\"toc-item-num\">10&nbsp;&nbsp;</span>Сколько сотрудников покинули компанию</a></span></li><li><span><a href=\"#Проверить-несколько-гипотез-для-данных,-чтобы-понять-почему-сотрудники-покидают-компанию\" data-toc-modified-id=\"Проверить-несколько-гипотез-для-данных,-чтобы-понять-почему-сотрудники-покидают-компанию-11\"><span class=\"toc-item-num\">11&nbsp;&nbsp;</span>Проверить несколько гипотез для данных, чтобы понять почему сотрудники покидают компанию</a></span><ul class=\"toc-item\"><li><span><a href=\"#Определение-текучести-кадров\" data-toc-modified-id=\"Определение-текучести-кадров-11.1\"><span class=\"toc-item-num\">11.1&nbsp;&nbsp;</span>Определение текучести кадров</a></span><ul class=\"toc-item\"><li><span><a href=\"#Пример:\" data-toc-modified-id=\"Пример:-11.1.1\"><span class=\"toc-item-num\">11.1.1&nbsp;&nbsp;</span>Пример:</a></span></li><li><span><a href=\"#Факторы\" data-toc-modified-id=\"Факторы-11.1.2\"><span class=\"toc-item-num\">11.1.2&nbsp;&nbsp;</span>Факторы</a></span></li></ul></li><li><span><a href=\"#Гипотезы\" data-toc-modified-id=\"Гипотезы-11.2\"><span class=\"toc-item-num\">11.2&nbsp;&nbsp;</span>Гипотезы</a></span></li><li><span><a href=\"#Ушедшие-сотрудники\" data-toc-modified-id=\"Ушедшие-сотрудники-11.3\"><span class=\"toc-item-num\">11.3&nbsp;&nbsp;</span>Ушедшие сотрудники</a></span></li><li><span><a href=\"#Проверка-гипотез\" data-toc-modified-id=\"Проверка-гипотез-11.4\"><span class=\"toc-item-num\">11.4&nbsp;&nbsp;</span>Проверка гипотез</a></span><ul class=\"toc-item\"><li><span><a href=\"#Подготовка-данных\" data-toc-modified-id=\"Подготовка-данных-11.4.1\"><span class=\"toc-item-num\">11.4.1&nbsp;&nbsp;</span>Подготовка данных</a></span></li><li><span><a href=\"#Random-Forest\" data-toc-modified-id=\"Random-Forest-11.4.2\"><span class=\"toc-item-num\">11.4.2&nbsp;&nbsp;</span>Random Forest</a></span></li></ul></li><li><span><a href=\"#Выводы\" data-toc-modified-id=\"Выводы-11.5\"><span class=\"toc-item-num\">11.5&nbsp;&nbsp;</span>Выводы</a></span></li></ul></li></ul></div>"
   ]
  },
  {
   "cell_type": "code",
   "execution_count": 1,
   "metadata": {
    "ExecuteTime": {
     "end_time": "2020-03-14T10:36:00.797172Z",
     "start_time": "2020-03-14T10:35:57.796000Z"
    }
   },
   "outputs": [],
   "source": [
    "from IPython.display import IFrame\n",
    "from IPython.display import Image\n",
    "\n",
    "import matplotlib.pyplot as plt\n",
    "import numpy as np\n",
    "import pandas as pd\n",
    "import pandas_profiling\n",
    "from scipy import stats\n",
    "import seaborn as sns\n",
    "\n",
    "from sklearn.ensemble import RandomForestClassifier\n",
    "from sklearn.metrics import classification_report\n",
    "from sklearn.model_selection import train_test_split\n",
    "from sklearn import preprocessing\n",
    "import statistics\n",
    "\n",
    "%matplotlib inline"
   ]
  },
  {
   "cell_type": "markdown",
   "metadata": {},
   "source": [
    "## Список задач"
   ]
  },
  {
   "cell_type": "markdown",
   "metadata": {},
   "source": [
    "Проектная работа по модулю “Математика и статистика в Python”\n",
    "1. Загрузить файл hr.csv.\n",
    "2. Рассчитать основные статистики для переменных (среднее,медиана,мода,мин/макс,сред.отклонение).\n",
    "3. Рассчитать и визуализировать корреляционную матрицу для переменных.\n",
    "4. Визуализировать несколько взаимосвязей между переменными.\n",
    "5. С использованием t-test статистики проверить взаимосвязи между несколькими переменными.\n",
    "6. Рассчитать сколько работников работает в каждом департаменте.\n",
    "7. Показать распределение сотрудников по зарплатам.\n",
    "8. Показать распределение сотрудников по зарплатам совместно с департаментами.\n",
    "9. Сколько сотрудников покинули компанию.\n",
    "10. Проверить несколько гипотез для данных, чтобы понять почему сотрудники покидают компанию.\n",
    "11. Загрузить результат (в формате .ipynb ноутбука) в репозиторий. Разместить ссылку на репозиторий в Личном кабинете"
   ]
  },
  {
   "cell_type": "markdown",
   "metadata": {},
   "source": [
    "## Загрузить файл hr.csv"
   ]
  },
  {
   "cell_type": "code",
   "execution_count": 2,
   "metadata": {
    "ExecuteTime": {
     "end_time": "2020-03-14T10:36:00.825173Z",
     "start_time": "2020-03-14T10:36:00.799172Z"
    }
   },
   "outputs": [],
   "source": [
    "dataset = pd.read_csv('HR.csv')"
   ]
  },
  {
   "cell_type": "code",
   "execution_count": 3,
   "metadata": {
    "ExecuteTime": {
     "end_time": "2020-03-14T10:36:00.835174Z",
     "start_time": "2020-03-14T10:36:00.828174Z"
    }
   },
   "outputs": [
    {
     "data": {
      "text/plain": [
       "Index(['satisfaction_level', 'last_evaluation', 'number_project',\n",
       "       'average_montly_hours', 'time_spend_company', 'Work_accident', 'left',\n",
       "       'promotion_last_5years', 'sales', 'salary'],\n",
       "      dtype='object')"
      ]
     },
     "execution_count": 3,
     "metadata": {},
     "output_type": "execute_result"
    }
   ],
   "source": [
    "dataset.columns"
   ]
  },
  {
   "cell_type": "code",
   "execution_count": 4,
   "metadata": {
    "ExecuteTime": {
     "end_time": "2020-03-14T10:36:00.849175Z",
     "start_time": "2020-03-14T10:36:00.838174Z"
    }
   },
   "outputs": [
    {
     "data": {
      "image/jpeg": "[encoded data removed]",
      "text/plain": [
       "<IPython.core.display.Image object>"
      ]
     },
     "execution_count": 4,
     "metadata": {},
     "output_type": "execute_result"
    }
   ],
   "source": [
    "Image(\"description.jpg\")"
   ]
  },
  {
   "cell_type": "code",
   "execution_count": 5,
   "metadata": {
    "ExecuteTime": {
     "end_time": "2020-03-14T10:36:00.864176Z",
     "start_time": "2020-03-14T10:36:00.852175Z"
    }
   },
   "outputs": [],
   "source": [
    "headers = {x.lower():x.lower()  for x in dataset.columns.values.tolist()}\n",
    "\n",
    "headers['last_evaluation'] = 'last_feedback_mark'\n",
    "headers['number_project'] = 'project_number'\n",
    "headers['average_montly_hours'] = 'avg_monthly_hours'\n",
    "headers['time_spend_company'] = 'years_at_company'\n",
    "headers['Work_accident'] = 'work_accident'\n",
    "headers['left'] = 'is_left'\n",
    "headers['sales'] = 'department'\n",
    "headers['salary'] = 'salary_level'\n",
    "\n",
    "dataset = dataset.rename(columns = headers)"
   ]
  },
  {
   "cell_type": "code",
   "execution_count": 6,
   "metadata": {
    "ExecuteTime": {
     "end_time": "2020-03-14T10:36:00.894177Z",
     "start_time": "2020-03-14T10:36:00.867176Z"
    }
   },
   "outputs": [
    {
     "name": "stdout",
     "output_type": "stream",
     "text": [
      "<class 'pandas.core.frame.DataFrame'>\n",
      "RangeIndex: 14999 entries, 0 to 14998\n",
      "Data columns (total 10 columns):\n",
      "satisfaction_level       14999 non-null float64\n",
      "last_feedback_mark       14999 non-null float64\n",
      "project_number           14999 non-null int64\n",
      "avg_monthly_hours        14999 non-null int64\n",
      "years_at_company         14999 non-null int64\n",
      "work_accident            14999 non-null int64\n",
      "is_left                  14999 non-null int64\n",
      "promotion_last_5years    14999 non-null int64\n",
      "department               14999 non-null object\n",
      "salary_level             14999 non-null object\n",
      "dtypes: float64(2), int64(6), object(2)\n",
      "memory usage: 1.1+ MB\n"
     ]
    }
   ],
   "source": [
    "dataset.info()"
   ]
  },
  {
   "cell_type": "markdown",
   "metadata": {},
   "source": [
    "**Пропусков нет**"
   ]
  },
  {
   "cell_type": "code",
   "execution_count": 7,
   "metadata": {
    "ExecuteTime": {
     "end_time": "2020-03-14T10:36:00.915178Z",
     "start_time": "2020-03-14T10:36:00.896177Z"
    }
   },
   "outputs": [
    {
     "data": {
      "text/html": [
       "<div>\n",
       "<style scoped>\n",
       "    .dataframe tbody tr th:only-of-type {\n",
       "        vertical-align: middle;\n",
       "    }\n",
       "\n",
       "    .dataframe tbody tr th {\n",
       "        vertical-align: top;\n",
       "    }\n",
       "\n",
       "    .dataframe thead th {\n",
       "        text-align: right;\n",
       "    }\n",
       "</style>\n",
       "<table border=\"1\" class=\"dataframe\">\n",
       "  <thead>\n",
       "    <tr style=\"text-align: right;\">\n",
       "      <th></th>\n",
       "      <th>satisfaction_level</th>\n",
       "      <th>last_feedback_mark</th>\n",
       "      <th>project_number</th>\n",
       "      <th>avg_monthly_hours</th>\n",
       "      <th>years_at_company</th>\n",
       "      <th>work_accident</th>\n",
       "      <th>is_left</th>\n",
       "      <th>promotion_last_5years</th>\n",
       "      <th>department</th>\n",
       "      <th>salary_level</th>\n",
       "    </tr>\n",
       "  </thead>\n",
       "  <tbody>\n",
       "    <tr>\n",
       "      <th>0</th>\n",
       "      <td>0.38</td>\n",
       "      <td>0.53</td>\n",
       "      <td>2</td>\n",
       "      <td>157</td>\n",
       "      <td>3</td>\n",
       "      <td>0</td>\n",
       "      <td>1</td>\n",
       "      <td>0</td>\n",
       "      <td>sales</td>\n",
       "      <td>low</td>\n",
       "    </tr>\n",
       "    <tr>\n",
       "      <th>1</th>\n",
       "      <td>0.80</td>\n",
       "      <td>0.86</td>\n",
       "      <td>5</td>\n",
       "      <td>262</td>\n",
       "      <td>6</td>\n",
       "      <td>0</td>\n",
       "      <td>1</td>\n",
       "      <td>0</td>\n",
       "      <td>sales</td>\n",
       "      <td>medium</td>\n",
       "    </tr>\n",
       "    <tr>\n",
       "      <th>2</th>\n",
       "      <td>0.11</td>\n",
       "      <td>0.88</td>\n",
       "      <td>7</td>\n",
       "      <td>272</td>\n",
       "      <td>4</td>\n",
       "      <td>0</td>\n",
       "      <td>1</td>\n",
       "      <td>0</td>\n",
       "      <td>sales</td>\n",
       "      <td>medium</td>\n",
       "    </tr>\n",
       "    <tr>\n",
       "      <th>3</th>\n",
       "      <td>0.72</td>\n",
       "      <td>0.87</td>\n",
       "      <td>5</td>\n",
       "      <td>223</td>\n",
       "      <td>5</td>\n",
       "      <td>0</td>\n",
       "      <td>1</td>\n",
       "      <td>0</td>\n",
       "      <td>sales</td>\n",
       "      <td>low</td>\n",
       "    </tr>\n",
       "    <tr>\n",
       "      <th>4</th>\n",
       "      <td>0.37</td>\n",
       "      <td>0.52</td>\n",
       "      <td>2</td>\n",
       "      <td>159</td>\n",
       "      <td>3</td>\n",
       "      <td>0</td>\n",
       "      <td>1</td>\n",
       "      <td>0</td>\n",
       "      <td>sales</td>\n",
       "      <td>low</td>\n",
       "    </tr>\n",
       "  </tbody>\n",
       "</table>\n",
       "</div>"
      ],
      "text/plain": [
       "   satisfaction_level  last_feedback_mark  project_number  avg_monthly_hours  \\\n",
       "0                0.38                0.53               2                157   \n",
       "1                0.80                0.86               5                262   \n",
       "2                0.11                0.88               7                272   \n",
       "3                0.72                0.87               5                223   \n",
       "4                0.37                0.52               2                159   \n",
       "\n",
       "   years_at_company  work_accident  is_left  promotion_last_5years department  \\\n",
       "0                 3              0        1                      0      sales   \n",
       "1                 6              0        1                      0      sales   \n",
       "2                 4              0        1                      0      sales   \n",
       "3                 5              0        1                      0      sales   \n",
       "4                 3              0        1                      0      sales   \n",
       "\n",
       "  salary_level  \n",
       "0          low  \n",
       "1       medium  \n",
       "2       medium  \n",
       "3          low  \n",
       "4          low  "
      ]
     },
     "execution_count": 7,
     "metadata": {},
     "output_type": "execute_result"
    }
   ],
   "source": [
    "dataset.head()"
   ]
  },
  {
   "cell_type": "code",
   "execution_count": 8,
   "metadata": {
    "ExecuteTime": {
     "end_time": "2020-03-14T10:36:03.157307Z",
     "start_time": "2020-03-14T10:36:00.919179Z"
    }
   },
   "outputs": [
    {
     "data": {
      "image/png": "[encoded data removed]",
      "text/plain": [
       "<Figure size 432x288 with 9 Axes>"
      ]
     },
     "metadata": {
      "needs_background": "light"
     },
     "output_type": "display_data"
    }
   ],
   "source": [
    "dataset.hist(bins=20)\n",
    "plt.show()"
   ]
  },
  {
   "cell_type": "code",
   "execution_count": 9,
   "metadata": {
    "ExecuteTime": {
     "end_time": "2020-03-14T10:36:03.175308Z",
     "start_time": "2020-03-14T10:36:03.160307Z"
    }
   },
   "outputs": [
    {
     "data": {
      "text/plain": [
       "3008"
      ]
     },
     "execution_count": 9,
     "metadata": {},
     "output_type": "execute_result"
    }
   ],
   "source": [
    "dataset.duplicated().sum()"
   ]
  },
  {
   "cell_type": "markdown",
   "metadata": {},
   "source": [
    "В нашем датасете отсутствуют id сотрудников, так что\n",
    "у нас вполне могут быть одинаковые записи с сотрудниками, задействованными на одном проекте, работающие в одном отделе с одинаковой годовой оценкой и т.д. (коллеги).\n",
    "\n",
    "Пример такой выборки:"
   ]
  },
  {
   "cell_type": "code",
   "execution_count": 10,
   "metadata": {
    "ExecuteTime": {
     "end_time": "2020-03-14T10:36:03.215310Z",
     "start_time": "2020-03-14T10:36:03.177308Z"
    },
    "scrolled": true
   },
   "outputs": [
    {
     "data": {
      "text/html": [
       "<div>\n",
       "<style scoped>\n",
       "    .dataframe tbody tr th:only-of-type {\n",
       "        vertical-align: middle;\n",
       "    }\n",
       "\n",
       "    .dataframe tbody tr th {\n",
       "        vertical-align: top;\n",
       "    }\n",
       "\n",
       "    .dataframe thead th {\n",
       "        text-align: right;\n",
       "    }\n",
       "</style>\n",
       "<table border=\"1\" class=\"dataframe\">\n",
       "  <thead>\n",
       "    <tr style=\"text-align: right;\">\n",
       "      <th></th>\n",
       "      <th>satisfaction_level</th>\n",
       "      <th>last_feedback_mark</th>\n",
       "      <th>project_number</th>\n",
       "      <th>avg_monthly_hours</th>\n",
       "      <th>years_at_company</th>\n",
       "      <th>work_accident</th>\n",
       "      <th>is_left</th>\n",
       "      <th>promotion_last_5years</th>\n",
       "      <th>department</th>\n",
       "      <th>salary_level</th>\n",
       "    </tr>\n",
       "  </thead>\n",
       "  <tbody>\n",
       "    <tr>\n",
       "      <th>396</th>\n",
       "      <td>0.46</td>\n",
       "      <td>0.57</td>\n",
       "      <td>2</td>\n",
       "      <td>139</td>\n",
       "      <td>3</td>\n",
       "      <td>0</td>\n",
       "      <td>1</td>\n",
       "      <td>0</td>\n",
       "      <td>sales</td>\n",
       "      <td>low</td>\n",
       "    </tr>\n",
       "    <tr>\n",
       "      <th>12023</th>\n",
       "      <td>0.46</td>\n",
       "      <td>0.57</td>\n",
       "      <td>2</td>\n",
       "      <td>139</td>\n",
       "      <td>3</td>\n",
       "      <td>0</td>\n",
       "      <td>1</td>\n",
       "      <td>0</td>\n",
       "      <td>sales</td>\n",
       "      <td>low</td>\n",
       "    </tr>\n",
       "    <tr>\n",
       "      <th>12396</th>\n",
       "      <td>0.46</td>\n",
       "      <td>0.57</td>\n",
       "      <td>2</td>\n",
       "      <td>139</td>\n",
       "      <td>3</td>\n",
       "      <td>0</td>\n",
       "      <td>1</td>\n",
       "      <td>0</td>\n",
       "      <td>sales</td>\n",
       "      <td>low</td>\n",
       "    </tr>\n",
       "    <tr>\n",
       "      <th>14234</th>\n",
       "      <td>0.46</td>\n",
       "      <td>0.57</td>\n",
       "      <td>2</td>\n",
       "      <td>139</td>\n",
       "      <td>3</td>\n",
       "      <td>0</td>\n",
       "      <td>1</td>\n",
       "      <td>0</td>\n",
       "      <td>sales</td>\n",
       "      <td>low</td>\n",
       "    </tr>\n",
       "    <tr>\n",
       "      <th>14607</th>\n",
       "      <td>0.46</td>\n",
       "      <td>0.57</td>\n",
       "      <td>2</td>\n",
       "      <td>139</td>\n",
       "      <td>3</td>\n",
       "      <td>0</td>\n",
       "      <td>1</td>\n",
       "      <td>0</td>\n",
       "      <td>sales</td>\n",
       "      <td>low</td>\n",
       "    </tr>\n",
       "  </tbody>\n",
       "</table>\n",
       "</div>"
      ],
      "text/plain": [
       "       satisfaction_level  last_feedback_mark  project_number  \\\n",
       "396                  0.46                0.57               2   \n",
       "12023                0.46                0.57               2   \n",
       "12396                0.46                0.57               2   \n",
       "14234                0.46                0.57               2   \n",
       "14607                0.46                0.57               2   \n",
       "\n",
       "       avg_monthly_hours  years_at_company  work_accident  is_left  \\\n",
       "396                  139                 3              0        1   \n",
       "12023                139                 3              0        1   \n",
       "12396                139                 3              0        1   \n",
       "14234                139                 3              0        1   \n",
       "14607                139                 3              0        1   \n",
       "\n",
       "       promotion_last_5years department salary_level  \n",
       "396                        0      sales          low  \n",
       "12023                      0      sales          low  \n",
       "12396                      0      sales          low  \n",
       "14234                      0      sales          low  \n",
       "14607                      0      sales          low  "
      ]
     },
     "execution_count": 10,
     "metadata": {},
     "output_type": "execute_result"
    }
   ],
   "source": [
    "dataset[(dataset.duplicated()==True)\n",
    "        &(dataset['satisfaction_level']==0.46)\n",
    "        & (dataset['project_number']==2)\n",
    "        & (dataset['last_feedback_mark'] > 0.50)\n",
    "        & (dataset['department']=='sales')\n",
    "        & (dataset['avg_monthly_hours']==139)\n",
    "       ]"
   ]
  },
  {
   "cell_type": "markdown",
   "metadata": {},
   "source": [
    "**Дубликаты не удаляем.**"
   ]
  },
  {
   "cell_type": "markdown",
   "metadata": {},
   "source": [
    "## Рассчитать основные статистики для переменных (среднее,медиана,мода,мин/макс,сред.отклонение)"
   ]
  },
  {
   "cell_type": "code",
   "execution_count": 11,
   "metadata": {
    "ExecuteTime": {
     "end_time": "2020-03-14T10:36:03.278314Z",
     "start_time": "2020-03-14T10:36:03.217310Z"
    }
   },
   "outputs": [
    {
     "data": {
      "text/html": [
       "<div>\n",
       "<style scoped>\n",
       "    .dataframe tbody tr th:only-of-type {\n",
       "        vertical-align: middle;\n",
       "    }\n",
       "\n",
       "    .dataframe tbody tr th {\n",
       "        vertical-align: top;\n",
       "    }\n",
       "\n",
       "    .dataframe thead th {\n",
       "        text-align: right;\n",
       "    }\n",
       "</style>\n",
       "<table border=\"1\" class=\"dataframe\">\n",
       "  <thead>\n",
       "    <tr style=\"text-align: right;\">\n",
       "      <th></th>\n",
       "      <th>satisfaction_level</th>\n",
       "      <th>last_feedback_mark</th>\n",
       "      <th>project_number</th>\n",
       "      <th>avg_monthly_hours</th>\n",
       "      <th>years_at_company</th>\n",
       "      <th>work_accident</th>\n",
       "      <th>is_left</th>\n",
       "      <th>promotion_last_5years</th>\n",
       "    </tr>\n",
       "  </thead>\n",
       "  <tbody>\n",
       "    <tr>\n",
       "      <th>count</th>\n",
       "      <td>14999.000</td>\n",
       "      <td>14999.000</td>\n",
       "      <td>14999.000</td>\n",
       "      <td>14999.000</td>\n",
       "      <td>14999.000</td>\n",
       "      <td>14999.000</td>\n",
       "      <td>14999.000</td>\n",
       "      <td>14999.000</td>\n",
       "    </tr>\n",
       "    <tr>\n",
       "      <th>mean</th>\n",
       "      <td>0.613</td>\n",
       "      <td>0.716</td>\n",
       "      <td>3.803</td>\n",
       "      <td>201.050</td>\n",
       "      <td>3.498</td>\n",
       "      <td>0.145</td>\n",
       "      <td>0.238</td>\n",
       "      <td>0.021</td>\n",
       "    </tr>\n",
       "    <tr>\n",
       "      <th>std</th>\n",
       "      <td>0.249</td>\n",
       "      <td>0.171</td>\n",
       "      <td>1.233</td>\n",
       "      <td>49.943</td>\n",
       "      <td>1.460</td>\n",
       "      <td>0.352</td>\n",
       "      <td>0.426</td>\n",
       "      <td>0.144</td>\n",
       "    </tr>\n",
       "    <tr>\n",
       "      <th>min</th>\n",
       "      <td>0.090</td>\n",
       "      <td>0.360</td>\n",
       "      <td>2.000</td>\n",
       "      <td>96.000</td>\n",
       "      <td>2.000</td>\n",
       "      <td>0.000</td>\n",
       "      <td>0.000</td>\n",
       "      <td>0.000</td>\n",
       "    </tr>\n",
       "    <tr>\n",
       "      <th>25%</th>\n",
       "      <td>0.440</td>\n",
       "      <td>0.560</td>\n",
       "      <td>3.000</td>\n",
       "      <td>156.000</td>\n",
       "      <td>3.000</td>\n",
       "      <td>0.000</td>\n",
       "      <td>0.000</td>\n",
       "      <td>0.000</td>\n",
       "    </tr>\n",
       "    <tr>\n",
       "      <th>50%</th>\n",
       "      <td>0.640</td>\n",
       "      <td>0.720</td>\n",
       "      <td>4.000</td>\n",
       "      <td>200.000</td>\n",
       "      <td>3.000</td>\n",
       "      <td>0.000</td>\n",
       "      <td>0.000</td>\n",
       "      <td>0.000</td>\n",
       "    </tr>\n",
       "    <tr>\n",
       "      <th>75%</th>\n",
       "      <td>0.820</td>\n",
       "      <td>0.870</td>\n",
       "      <td>5.000</td>\n",
       "      <td>245.000</td>\n",
       "      <td>4.000</td>\n",
       "      <td>0.000</td>\n",
       "      <td>0.000</td>\n",
       "      <td>0.000</td>\n",
       "    </tr>\n",
       "    <tr>\n",
       "      <th>max</th>\n",
       "      <td>1.000</td>\n",
       "      <td>1.000</td>\n",
       "      <td>7.000</td>\n",
       "      <td>310.000</td>\n",
       "      <td>10.000</td>\n",
       "      <td>1.000</td>\n",
       "      <td>1.000</td>\n",
       "      <td>1.000</td>\n",
       "    </tr>\n",
       "  </tbody>\n",
       "</table>\n",
       "</div>"
      ],
      "text/plain": [
       "       satisfaction_level  last_feedback_mark  project_number  \\\n",
       "count           14999.000           14999.000       14999.000   \n",
       "mean                0.613               0.716           3.803   \n",
       "std                 0.249               0.171           1.233   \n",
       "min                 0.090               0.360           2.000   \n",
       "25%                 0.440               0.560           3.000   \n",
       "50%                 0.640               0.720           4.000   \n",
       "75%                 0.820               0.870           5.000   \n",
       "max                 1.000               1.000           7.000   \n",
       "\n",
       "       avg_monthly_hours  years_at_company  work_accident    is_left  \\\n",
       "count          14999.000         14999.000      14999.000  14999.000   \n",
       "mean             201.050             3.498          0.145      0.238   \n",
       "std               49.943             1.460          0.352      0.426   \n",
       "min               96.000             2.000          0.000      0.000   \n",
       "25%              156.000             3.000          0.000      0.000   \n",
       "50%              200.000             3.000          0.000      0.000   \n",
       "75%              245.000             4.000          0.000      0.000   \n",
       "max              310.000            10.000          1.000      1.000   \n",
       "\n",
       "       promotion_last_5years  \n",
       "count              14999.000  \n",
       "mean                   0.021  \n",
       "std                    0.144  \n",
       "min                    0.000  \n",
       "25%                    0.000  \n",
       "50%                    0.000  \n",
       "75%                    0.000  \n",
       "max                    1.000  "
      ]
     },
     "execution_count": 11,
     "metadata": {},
     "output_type": "execute_result"
    }
   ],
   "source": [
    "dataset.describe().round(3)"
   ]
  },
  {
   "cell_type": "code",
   "execution_count": 12,
   "metadata": {
    "ExecuteTime": {
     "end_time": "2020-03-14T10:36:03.332317Z",
     "start_time": "2020-03-14T10:36:03.280314Z"
    }
   },
   "outputs": [
    {
     "data": {
      "text/plain": [
       "satisfaction_level         0.64\n",
       "last_feedback_mark         0.72\n",
       "project_number             4.00\n",
       "avg_monthly_hours        200.00\n",
       "years_at_company           3.00\n",
       "work_accident              0.00\n",
       "is_left                    0.00\n",
       "promotion_last_5years      0.00\n",
       "dtype: float64"
      ]
     },
     "execution_count": 12,
     "metadata": {},
     "output_type": "execute_result"
    }
   ],
   "source": [
    "dataset.median()"
   ]
  },
  {
   "cell_type": "code",
   "execution_count": 13,
   "metadata": {
    "ExecuteTime": {
     "end_time": "2020-03-14T10:36:03.357318Z",
     "start_time": "2020-03-14T10:36:03.334317Z"
    }
   },
   "outputs": [
    {
     "data": {
      "text/html": [
       "<div>\n",
       "<style scoped>\n",
       "    .dataframe tbody tr th:only-of-type {\n",
       "        vertical-align: middle;\n",
       "    }\n",
       "\n",
       "    .dataframe tbody tr th {\n",
       "        vertical-align: top;\n",
       "    }\n",
       "\n",
       "    .dataframe thead th {\n",
       "        text-align: right;\n",
       "    }\n",
       "</style>\n",
       "<table border=\"1\" class=\"dataframe\">\n",
       "  <thead>\n",
       "    <tr style=\"text-align: right;\">\n",
       "      <th></th>\n",
       "      <th>department</th>\n",
       "      <th>salary_level</th>\n",
       "    </tr>\n",
       "  </thead>\n",
       "  <tbody>\n",
       "    <tr>\n",
       "      <th>0</th>\n",
       "      <td>sales</td>\n",
       "      <td>low</td>\n",
       "    </tr>\n",
       "  </tbody>\n",
       "</table>\n",
       "</div>"
      ],
      "text/plain": [
       "  department salary_level\n",
       "0      sales          low"
      ]
     },
     "execution_count": 13,
     "metadata": {},
     "output_type": "execute_result"
    }
   ],
   "source": [
    "dataset.select_dtypes(include='object').mode()"
   ]
  },
  {
   "cell_type": "code",
   "execution_count": 14,
   "metadata": {
    "ExecuteTime": {
     "end_time": "2020-03-14T10:36:03.399321Z",
     "start_time": "2020-03-14T10:36:03.359318Z"
    }
   },
   "outputs": [
    {
     "data": {
      "text/html": [
       "<div>\n",
       "<style scoped>\n",
       "    .dataframe tbody tr th:only-of-type {\n",
       "        vertical-align: middle;\n",
       "    }\n",
       "\n",
       "    .dataframe tbody tr th {\n",
       "        vertical-align: top;\n",
       "    }\n",
       "\n",
       "    .dataframe thead th {\n",
       "        text-align: right;\n",
       "    }\n",
       "</style>\n",
       "<table border=\"1\" class=\"dataframe\">\n",
       "  <thead>\n",
       "    <tr style=\"text-align: right;\">\n",
       "      <th></th>\n",
       "      <th>satisfaction_level</th>\n",
       "      <th>last_feedback_mark</th>\n",
       "      <th>project_number</th>\n",
       "      <th>avg_monthly_hours</th>\n",
       "      <th>years_at_company</th>\n",
       "      <th>work_accident</th>\n",
       "      <th>is_left</th>\n",
       "      <th>promotion_last_5years</th>\n",
       "      <th>department</th>\n",
       "      <th>salary_level</th>\n",
       "    </tr>\n",
       "  </thead>\n",
       "  <tbody>\n",
       "    <tr>\n",
       "      <th>0</th>\n",
       "      <td>0.1</td>\n",
       "      <td>0.55</td>\n",
       "      <td>4.0</td>\n",
       "      <td>135</td>\n",
       "      <td>3.0</td>\n",
       "      <td>0.0</td>\n",
       "      <td>0.0</td>\n",
       "      <td>0.0</td>\n",
       "      <td>sales</td>\n",
       "      <td>low</td>\n",
       "    </tr>\n",
       "    <tr>\n",
       "      <th>1</th>\n",
       "      <td>NaN</td>\n",
       "      <td>NaN</td>\n",
       "      <td>NaN</td>\n",
       "      <td>156</td>\n",
       "      <td>NaN</td>\n",
       "      <td>NaN</td>\n",
       "      <td>NaN</td>\n",
       "      <td>NaN</td>\n",
       "      <td>NaN</td>\n",
       "      <td>NaN</td>\n",
       "    </tr>\n",
       "  </tbody>\n",
       "</table>\n",
       "</div>"
      ],
      "text/plain": [
       "   satisfaction_level  last_feedback_mark  project_number  avg_monthly_hours  \\\n",
       "0                 0.1                0.55             4.0                135   \n",
       "1                 NaN                 NaN             NaN                156   \n",
       "\n",
       "   years_at_company  work_accident  is_left  promotion_last_5years department  \\\n",
       "0               3.0            0.0      0.0                    0.0      sales   \n",
       "1               NaN            NaN      NaN                    NaN        NaN   \n",
       "\n",
       "  salary_level  \n",
       "0          low  \n",
       "1          NaN  "
      ]
     },
     "execution_count": 14,
     "metadata": {},
     "output_type": "execute_result"
    }
   ],
   "source": [
    "dataset.mode()"
   ]
  },
  {
   "cell_type": "markdown",
   "metadata": {},
   "source": [
    "## Рассчитать и визуализировать корреляционную матрицу для переменных"
   ]
  },
  {
   "cell_type": "code",
   "execution_count": 15,
   "metadata": {
    "ExecuteTime": {
     "end_time": "2020-03-14T10:36:03.423322Z",
     "start_time": "2020-03-14T10:36:03.401321Z"
    }
   },
   "outputs": [
    {
     "data": {
      "text/html": [
       "<div>\n",
       "<style scoped>\n",
       "    .dataframe tbody tr th:only-of-type {\n",
       "        vertical-align: middle;\n",
       "    }\n",
       "\n",
       "    .dataframe tbody tr th {\n",
       "        vertical-align: top;\n",
       "    }\n",
       "\n",
       "    .dataframe thead th {\n",
       "        text-align: right;\n",
       "    }\n",
       "</style>\n",
       "<table border=\"1\" class=\"dataframe\">\n",
       "  <thead>\n",
       "    <tr style=\"text-align: right;\">\n",
       "      <th></th>\n",
       "      <th>satisfaction_level</th>\n",
       "      <th>last_feedback_mark</th>\n",
       "      <th>project_number</th>\n",
       "      <th>avg_monthly_hours</th>\n",
       "      <th>years_at_company</th>\n",
       "      <th>work_accident</th>\n",
       "      <th>is_left</th>\n",
       "      <th>promotion_last_5years</th>\n",
       "    </tr>\n",
       "  </thead>\n",
       "  <tbody>\n",
       "    <tr>\n",
       "      <th>satisfaction_level</th>\n",
       "      <td>1.000000</td>\n",
       "      <td>0.105021</td>\n",
       "      <td>-0.142970</td>\n",
       "      <td>-0.020048</td>\n",
       "      <td>-0.100866</td>\n",
       "      <td>0.058697</td>\n",
       "      <td>-0.388375</td>\n",
       "      <td>0.025605</td>\n",
       "    </tr>\n",
       "    <tr>\n",
       "      <th>last_feedback_mark</th>\n",
       "      <td>0.105021</td>\n",
       "      <td>1.000000</td>\n",
       "      <td>0.349333</td>\n",
       "      <td>0.339742</td>\n",
       "      <td>0.131591</td>\n",
       "      <td>-0.007104</td>\n",
       "      <td>0.006567</td>\n",
       "      <td>-0.008684</td>\n",
       "    </tr>\n",
       "    <tr>\n",
       "      <th>project_number</th>\n",
       "      <td>-0.142970</td>\n",
       "      <td>0.349333</td>\n",
       "      <td>1.000000</td>\n",
       "      <td>0.417211</td>\n",
       "      <td>0.196786</td>\n",
       "      <td>-0.004741</td>\n",
       "      <td>0.023787</td>\n",
       "      <td>-0.006064</td>\n",
       "    </tr>\n",
       "    <tr>\n",
       "      <th>avg_monthly_hours</th>\n",
       "      <td>-0.020048</td>\n",
       "      <td>0.339742</td>\n",
       "      <td>0.417211</td>\n",
       "      <td>1.000000</td>\n",
       "      <td>0.127755</td>\n",
       "      <td>-0.010143</td>\n",
       "      <td>0.071287</td>\n",
       "      <td>-0.003544</td>\n",
       "    </tr>\n",
       "    <tr>\n",
       "      <th>years_at_company</th>\n",
       "      <td>-0.100866</td>\n",
       "      <td>0.131591</td>\n",
       "      <td>0.196786</td>\n",
       "      <td>0.127755</td>\n",
       "      <td>1.000000</td>\n",
       "      <td>0.002120</td>\n",
       "      <td>0.144822</td>\n",
       "      <td>0.067433</td>\n",
       "    </tr>\n",
       "    <tr>\n",
       "      <th>work_accident</th>\n",
       "      <td>0.058697</td>\n",
       "      <td>-0.007104</td>\n",
       "      <td>-0.004741</td>\n",
       "      <td>-0.010143</td>\n",
       "      <td>0.002120</td>\n",
       "      <td>1.000000</td>\n",
       "      <td>-0.154622</td>\n",
       "      <td>0.039245</td>\n",
       "    </tr>\n",
       "    <tr>\n",
       "      <th>is_left</th>\n",
       "      <td>-0.388375</td>\n",
       "      <td>0.006567</td>\n",
       "      <td>0.023787</td>\n",
       "      <td>0.071287</td>\n",
       "      <td>0.144822</td>\n",
       "      <td>-0.154622</td>\n",
       "      <td>1.000000</td>\n",
       "      <td>-0.061788</td>\n",
       "    </tr>\n",
       "    <tr>\n",
       "      <th>promotion_last_5years</th>\n",
       "      <td>0.025605</td>\n",
       "      <td>-0.008684</td>\n",
       "      <td>-0.006064</td>\n",
       "      <td>-0.003544</td>\n",
       "      <td>0.067433</td>\n",
       "      <td>0.039245</td>\n",
       "      <td>-0.061788</td>\n",
       "      <td>1.000000</td>\n",
       "    </tr>\n",
       "  </tbody>\n",
       "</table>\n",
       "</div>"
      ],
      "text/plain": [
       "                       satisfaction_level  last_feedback_mark  project_number  \\\n",
       "satisfaction_level               1.000000            0.105021       -0.142970   \n",
       "last_feedback_mark               0.105021            1.000000        0.349333   \n",
       "project_number                  -0.142970            0.349333        1.000000   \n",
       "avg_monthly_hours               -0.020048            0.339742        0.417211   \n",
       "years_at_company                -0.100866            0.131591        0.196786   \n",
       "work_accident                    0.058697           -0.007104       -0.004741   \n",
       "is_left                         -0.388375            0.006567        0.023787   \n",
       "promotion_last_5years            0.025605           -0.008684       -0.006064   \n",
       "\n",
       "                       avg_monthly_hours  years_at_company  work_accident  \\\n",
       "satisfaction_level             -0.020048         -0.100866       0.058697   \n",
       "last_feedback_mark              0.339742          0.131591      -0.007104   \n",
       "project_number                  0.417211          0.196786      -0.004741   \n",
       "avg_monthly_hours               1.000000          0.127755      -0.010143   \n",
       "years_at_company                0.127755          1.000000       0.002120   \n",
       "work_accident                  -0.010143          0.002120       1.000000   \n",
       "is_left                         0.071287          0.144822      -0.154622   \n",
       "promotion_last_5years          -0.003544          0.067433       0.039245   \n",
       "\n",
       "                        is_left  promotion_last_5years  \n",
       "satisfaction_level    -0.388375               0.025605  \n",
       "last_feedback_mark     0.006567              -0.008684  \n",
       "project_number         0.023787              -0.006064  \n",
       "avg_monthly_hours      0.071287              -0.003544  \n",
       "years_at_company       0.144822               0.067433  \n",
       "work_accident         -0.154622               0.039245  \n",
       "is_left                1.000000              -0.061788  \n",
       "promotion_last_5years -0.061788               1.000000  "
      ]
     },
     "execution_count": 15,
     "metadata": {},
     "output_type": "execute_result"
    }
   ],
   "source": [
    "corr_matrix = dataset.corr()\n",
    "corr_matrix"
   ]
  },
  {
   "cell_type": "code",
   "execution_count": 16,
   "metadata": {
    "ExecuteTime": {
     "end_time": "2020-03-14T10:36:04.155364Z",
     "start_time": "2020-03-14T10:36:03.425322Z"
    }
   },
   "outputs": [
    {
     "data": {
      "image/png": "[encoded data removed]",
      "text/plain": [
       "<Figure size 1080x720 with 2 Axes>"
      ]
     },
     "metadata": {},
     "output_type": "display_data"
    }
   ],
   "source": [
    "sns.set(rc=({'figure.figsize':(15, 10)}))\n",
    "sns.heatmap(corr_matrix, annot=True, mask=np.triu(corr_matrix), fmt='.3g', square=True, cmap= 'seismic', vmin=-1, vmax=1, center= 0)\n",
    "plt.show()"
   ]
  },
  {
   "cell_type": "markdown",
   "metadata": {},
   "source": [
    "## Визуализировать несколько взаимосвязей между переменными"
   ]
  },
  {
   "cell_type": "code",
   "execution_count": 17,
   "metadata": {
    "ExecuteTime": {
     "end_time": "2020-03-14T10:36:08.212596Z",
     "start_time": "2020-03-14T10:36:04.156364Z"
    }
   },
   "outputs": [
    {
     "data": {
      "image/png": "[encoded data removed]",
      "text/plain": [
       "<Figure size 540x540 with 12 Axes>"
      ]
     },
     "metadata": {},
     "output_type": "display_data"
    }
   ],
   "source": [
    "sns.pairplot(dataset,vars=['last_feedback_mark', 'avg_monthly_hours', 'satisfaction_level'], kind=\"scatter\")\n",
    "plt.show()"
   ]
  },
  {
   "cell_type": "markdown",
   "metadata": {},
   "source": [
    "Между количественными переменными линейная зависимость отсутсвует."
   ]
  },
  {
   "cell_type": "markdown",
   "metadata": {},
   "source": [
    "## С использованием t-test статистики проверить взаимосвязи между несколькими переменными"
   ]
  },
  {
   "cell_type": "markdown",
   "metadata": {},
   "source": [
    "### Сотрудники IT так же удовлетворены работой в компании как и сотрудники HR отдела"
   ]
  },
  {
   "cell_type": "code",
   "execution_count": 18,
   "metadata": {
    "ExecuteTime": {
     "end_time": "2020-03-14T10:36:08.224597Z",
     "start_time": "2020-03-14T10:36:08.214596Z"
    }
   },
   "outputs": [
    {
     "name": "stderr",
     "output_type": "stream",
     "text": [
      "c:\\users\\xe\\appdata\\local\\programs\\python\\python37\\lib\\site-packages\\scipy\\stats\\morestats.py:1676: UserWarning: p-value may not be accurate for N > 5000.\n",
      "  warnings.warn(\"p-value may not be accurate for N > 5000.\")\n"
     ]
    },
    {
     "data": {
      "text/plain": [
       "(0.9518948793411255, 0.0)"
      ]
     },
     "execution_count": 18,
     "metadata": {},
     "output_type": "execute_result"
    }
   ],
   "source": [
    "stats.shapiro(dataset['satisfaction_level'])"
   ]
  },
  {
   "cell_type": "code",
   "execution_count": 19,
   "metadata": {
    "ExecuteTime": {
     "end_time": "2020-03-14T10:36:08.243598Z",
     "start_time": "2020-03-14T10:36:08.228597Z"
    }
   },
   "outputs": [],
   "source": [
    "it = dataset[ dataset['department'] == 'IT']['satisfaction_level']\n",
    "hr = dataset[ dataset['department'] == 'hr']['satisfaction_level']"
   ]
  },
  {
   "cell_type": "code",
   "execution_count": 20,
   "metadata": {
    "ExecuteTime": {
     "end_time": "2020-03-14T10:36:08.253598Z",
     "start_time": "2020-03-14T10:36:08.247598Z"
    }
   },
   "outputs": [
    {
     "data": {
      "text/plain": [
       "(1227, 739)"
      ]
     },
     "execution_count": 20,
     "metadata": {},
     "output_type": "execute_result"
    }
   ],
   "source": [
    "len(it), len(hr)"
   ]
  },
  {
   "cell_type": "code",
   "execution_count": 21,
   "metadata": {
    "ExecuteTime": {
     "end_time": "2020-03-14T10:36:08.265599Z",
     "start_time": "2020-03-14T10:36:08.255598Z"
    }
   },
   "outputs": [],
   "source": [
    "it = it.sample(100)\n",
    "hr = hr.sample(100)"
   ]
  },
  {
   "cell_type": "code",
   "execution_count": 22,
   "metadata": {
    "ExecuteTime": {
     "end_time": "2020-03-14T10:36:08.284600Z",
     "start_time": "2020-03-14T10:36:08.268599Z"
    }
   },
   "outputs": [
    {
     "data": {
      "text/plain": [
       "(0.06466079797979798, 0.05975208080808081)"
      ]
     },
     "execution_count": 22,
     "metadata": {},
     "output_type": "execute_result"
    }
   ],
   "source": [
    "statistics.variance(it), statistics.variance(hr)"
   ]
  },
  {
   "cell_type": "code",
   "execution_count": 23,
   "metadata": {
    "ExecuteTime": {
     "end_time": "2020-03-14T10:36:08.300601Z",
     "start_time": "2020-03-14T10:36:08.291600Z"
    }
   },
   "outputs": [
    {
     "data": {
      "text/plain": [
       "Ttest_indResult(statistic=0.9100648962521691, pvalue=0.3638965213024522)"
      ]
     },
     "execution_count": 23,
     "metadata": {},
     "output_type": "execute_result"
    }
   ],
   "source": [
    "stats.ttest_ind(it, hr, equal_var=False)"
   ]
  },
  {
   "cell_type": "markdown",
   "metadata": {},
   "source": [
    "### Руководители столько же часов сколько и подчиненные."
   ]
  },
  {
   "cell_type": "code",
   "execution_count": 24,
   "metadata": {
    "ExecuteTime": {
     "end_time": "2020-03-14T10:36:08.314602Z",
     "start_time": "2020-03-14T10:36:08.304601Z"
    }
   },
   "outputs": [
    {
     "data": {
      "text/plain": [
       "(0.963361382484436, 0.0)"
      ]
     },
     "execution_count": 24,
     "metadata": {},
     "output_type": "execute_result"
    }
   ],
   "source": [
    "stats.shapiro(dataset['avg_monthly_hours'])"
   ]
  },
  {
   "cell_type": "code",
   "execution_count": 25,
   "metadata": {
    "ExecuteTime": {
     "end_time": "2020-03-14T10:36:08.392606Z",
     "start_time": "2020-03-14T10:36:08.316602Z"
    }
   },
   "outputs": [
    {
     "name": "stdout",
     "output_type": "stream",
     "text": [
      "project 2\n",
      "manager variance: 2298.471\n",
      "subordinate variance: 1821.486\n",
      "t 1.10, p-value 0.271\n",
      "\n",
      "project 5\n",
      "manager variance: 2144.109\n",
      "subordinate variance: 1527.336\n",
      "t -2.54, p-value 0.012\n",
      "\n",
      "project 7\n",
      "manager variance: 1610.744\n",
      "subordinate variance: 2077.244\n",
      "t -0.30, p-value 0.769\n",
      "\n",
      "project 6\n",
      "manager variance: 3314.548\n",
      "subordinate variance: 3260.146\n",
      "t -1.58, p-value 0.117\n",
      "\n",
      "project 4\n",
      "manager variance: 1913.892\n",
      "subordinate variance: 2076.715\n",
      "t -0.55, p-value 0.580\n",
      "\n",
      "project 3\n",
      "manager variance: 1723.395\n",
      "subordinate variance: 1901.822\n",
      "t 0.89, p-value 0.373\n",
      "\n"
     ]
    }
   ],
   "source": [
    "for pn in dataset['project_number'].unique():\n",
    "    \n",
    "    manager = dataset[(dataset['department'] == 'management') & (dataset['project_number'] == pn)]['avg_monthly_hours']\n",
    "    subordinate = dataset[(dataset['department'] != 'management') & (dataset['project_number'] == pn)]['avg_monthly_hours']\n",
    "    \n",
    "    smpl = min([len(manager), len(subordinate)])\n",
    "    manager = manager.sample(smpl)\n",
    "    subordinate = subordinate.sample(smpl)\n",
    "    \n",
    "    print(f'project {pn}')\n",
    "    print(f'manager variance: {statistics.variance(manager):.3f}\\nsubordinate variance: {statistics.variance(subordinate):.3f}')\n",
    "    t, p = stats.ttest_ind(manager, subordinate, equal_var=False)\n",
    "    print(f't {t:.2f}, p-value {p:.3f}\\n')\n",
    "    \n"
   ]
  },
  {
   "cell_type": "markdown",
   "metadata": {},
   "source": [
    "### У сотрудников получавших повышение оценка такая же как у не получавших."
   ]
  },
  {
   "cell_type": "code",
   "execution_count": 26,
   "metadata": {
    "ExecuteTime": {
     "end_time": "2020-03-14T10:36:08.400607Z",
     "start_time": "2020-03-14T10:36:08.394606Z"
    }
   },
   "outputs": [
    {
     "data": {
      "text/plain": [
       "(0.9522111415863037, 0.0)"
      ]
     },
     "execution_count": 26,
     "metadata": {},
     "output_type": "execute_result"
    }
   ],
   "source": [
    "stats.shapiro(dataset['last_feedback_mark'])"
   ]
  },
  {
   "cell_type": "code",
   "execution_count": 27,
   "metadata": {
    "ExecuteTime": {
     "end_time": "2020-03-14T10:36:08.414607Z",
     "start_time": "2020-03-14T10:36:08.402607Z"
    }
   },
   "outputs": [],
   "source": [
    "promoted = dataset[(dataset['promotion_last_5years'] == 1)]['last_feedback_mark']\n",
    "not_promoted = dataset[(dataset['promotion_last_5years'] == 0)]['last_feedback_mark']\n",
    "    \n",
    "smpl = min([len(promoted), len(not_promoted)])\n",
    "promoted = promoted.sample(smpl)\n",
    "not_promoted = not_promoted.sample(smpl)   "
   ]
  },
  {
   "cell_type": "code",
   "execution_count": 28,
   "metadata": {
    "ExecuteTime": {
     "end_time": "2020-03-14T10:36:08.426608Z",
     "start_time": "2020-03-14T10:36:08.416608Z"
    }
   },
   "outputs": [
    {
     "name": "stdout",
     "output_type": "stream",
     "text": [
      "promoted variance: 0.029\n",
      "not_promoted variance: 0.032\n",
      "t -0.95 p-value 0.340\n",
      "\n"
     ]
    }
   ],
   "source": [
    "print(f'promoted variance: {statistics.variance(promoted):.3f}\\nnot_promoted variance: {statistics.variance(not_promoted):.3f}')\n",
    "t, p = stats.ttest_ind(promoted, not_promoted, equal_var=False)\n",
    "print(f't {t:.2f} p-value {p:.3f}\\n')"
   ]
  },
  {
   "cell_type": "markdown",
   "metadata": {},
   "source": [
    "## Рассчитать сколько работников работает в каждом департаменте"
   ]
  },
  {
   "cell_type": "code",
   "execution_count": 29,
   "metadata": {
    "ExecuteTime": {
     "end_time": "2020-03-14T10:36:08.808630Z",
     "start_time": "2020-03-14T10:36:08.428608Z"
    }
   },
   "outputs": [
    {
     "data": {
      "image/png": "[encoded data removed]",
      "text/plain": [
       "<Figure size 1080x720 with 1 Axes>"
      ]
     },
     "metadata": {},
     "output_type": "display_data"
    },
    {
     "data": {
      "text/html": [
       "<div>\n",
       "<style scoped>\n",
       "    .dataframe tbody tr th:only-of-type {\n",
       "        vertical-align: middle;\n",
       "    }\n",
       "\n",
       "    .dataframe tbody tr th {\n",
       "        vertical-align: top;\n",
       "    }\n",
       "\n",
       "    .dataframe thead th {\n",
       "        text-align: right;\n",
       "    }\n",
       "</style>\n",
       "<table border=\"1\" class=\"dataframe\">\n",
       "  <thead>\n",
       "    <tr style=\"text-align: right;\">\n",
       "      <th></th>\n",
       "      <th>index</th>\n",
       "      <th>department_count</th>\n",
       "      <th>department_perc</th>\n",
       "    </tr>\n",
       "  </thead>\n",
       "  <tbody>\n",
       "    <tr>\n",
       "      <th>0</th>\n",
       "      <td>sales</td>\n",
       "      <td>4140</td>\n",
       "      <td>0.2760</td>\n",
       "    </tr>\n",
       "    <tr>\n",
       "      <th>1</th>\n",
       "      <td>technical</td>\n",
       "      <td>2720</td>\n",
       "      <td>0.1813</td>\n",
       "    </tr>\n",
       "    <tr>\n",
       "      <th>2</th>\n",
       "      <td>support</td>\n",
       "      <td>2229</td>\n",
       "      <td>0.1486</td>\n",
       "    </tr>\n",
       "    <tr>\n",
       "      <th>3</th>\n",
       "      <td>IT</td>\n",
       "      <td>1227</td>\n",
       "      <td>0.0818</td>\n",
       "    </tr>\n",
       "    <tr>\n",
       "      <th>4</th>\n",
       "      <td>product_mng</td>\n",
       "      <td>902</td>\n",
       "      <td>0.0601</td>\n",
       "    </tr>\n",
       "    <tr>\n",
       "      <th>5</th>\n",
       "      <td>marketing</td>\n",
       "      <td>858</td>\n",
       "      <td>0.0572</td>\n",
       "    </tr>\n",
       "    <tr>\n",
       "      <th>6</th>\n",
       "      <td>RandD</td>\n",
       "      <td>787</td>\n",
       "      <td>0.0525</td>\n",
       "    </tr>\n",
       "    <tr>\n",
       "      <th>7</th>\n",
       "      <td>accounting</td>\n",
       "      <td>767</td>\n",
       "      <td>0.0511</td>\n",
       "    </tr>\n",
       "    <tr>\n",
       "      <th>8</th>\n",
       "      <td>hr</td>\n",
       "      <td>739</td>\n",
       "      <td>0.0493</td>\n",
       "    </tr>\n",
       "    <tr>\n",
       "      <th>9</th>\n",
       "      <td>management</td>\n",
       "      <td>630</td>\n",
       "      <td>0.0420</td>\n",
       "    </tr>\n",
       "  </tbody>\n",
       "</table>\n",
       "</div>"
      ],
      "text/plain": [
       "         index  department_count  department_perc\n",
       "0        sales              4140           0.2760\n",
       "1    technical              2720           0.1813\n",
       "2      support              2229           0.1486\n",
       "3           IT              1227           0.0818\n",
       "4  product_mng               902           0.0601\n",
       "5    marketing               858           0.0572\n",
       "6        RandD               787           0.0525\n",
       "7   accounting               767           0.0511\n",
       "8           hr               739           0.0493\n",
       "9   management               630           0.0420"
      ]
     },
     "execution_count": 29,
     "metadata": {},
     "output_type": "execute_result"
    }
   ],
   "source": [
    "dataset.department.value_counts().plot(kind='bar')\n",
    "plt.show()\n",
    "\n",
    "pd.merge(\n",
    "        dataset.department.value_counts().to_frame().reset_index(),\n",
    "        dataset.department.value_counts(normalize=True).round(4).to_frame().reset_index(),\n",
    "        how='left', on='index', suffixes=['_count', '_perc']\n",
    "        )"
   ]
  },
  {
   "cell_type": "markdown",
   "metadata": {},
   "source": [
    "## Показать распределение сотрудников по зарплатам"
   ]
  },
  {
   "cell_type": "code",
   "execution_count": 30,
   "metadata": {
    "ExecuteTime": {
     "end_time": "2020-03-14T10:36:09.091646Z",
     "start_time": "2020-03-14T10:36:08.810630Z"
    }
   },
   "outputs": [
    {
     "data": {
      "image/png": "[encoded data removed]",
      "text/plain": [
       "<Figure size 1080x720 with 1 Axes>"
      ]
     },
     "metadata": {},
     "output_type": "display_data"
    },
    {
     "data": {
      "text/html": [
       "<div>\n",
       "<style scoped>\n",
       "    .dataframe tbody tr th:only-of-type {\n",
       "        vertical-align: middle;\n",
       "    }\n",
       "\n",
       "    .dataframe tbody tr th {\n",
       "        vertical-align: top;\n",
       "    }\n",
       "\n",
       "    .dataframe thead th {\n",
       "        text-align: right;\n",
       "    }\n",
       "</style>\n",
       "<table border=\"1\" class=\"dataframe\">\n",
       "  <thead>\n",
       "    <tr style=\"text-align: right;\">\n",
       "      <th></th>\n",
       "      <th>index</th>\n",
       "      <th>salary_level_count</th>\n",
       "      <th>salary_level_perc</th>\n",
       "    </tr>\n",
       "  </thead>\n",
       "  <tbody>\n",
       "    <tr>\n",
       "      <th>0</th>\n",
       "      <td>low</td>\n",
       "      <td>7316</td>\n",
       "      <td>0.4878</td>\n",
       "    </tr>\n",
       "    <tr>\n",
       "      <th>1</th>\n",
       "      <td>medium</td>\n",
       "      <td>6446</td>\n",
       "      <td>0.4298</td>\n",
       "    </tr>\n",
       "    <tr>\n",
       "      <th>2</th>\n",
       "      <td>high</td>\n",
       "      <td>1237</td>\n",
       "      <td>0.0825</td>\n",
       "    </tr>\n",
       "  </tbody>\n",
       "</table>\n",
       "</div>"
      ],
      "text/plain": [
       "    index  salary_level_count  salary_level_perc\n",
       "0     low                7316             0.4878\n",
       "1  medium                6446             0.4298\n",
       "2    high                1237             0.0825"
      ]
     },
     "execution_count": 30,
     "metadata": {},
     "output_type": "execute_result"
    }
   ],
   "source": [
    "dataset['salary_level'].value_counts().plot(kind='bar')\n",
    "plt.show()\n",
    "\n",
    "pd.merge(\n",
    "        dataset['salary_level'].value_counts().to_frame().reset_index(),\n",
    "        dataset['salary_level'].value_counts(normalize=True).round(4).to_frame().reset_index(),\n",
    "        how='left', on='index', suffixes=['_count', '_perc']\n",
    "        )"
   ]
  },
  {
   "cell_type": "markdown",
   "metadata": {},
   "source": [
    "## Показать распределение сотрудников по зарплатам совместно с департаментами"
   ]
  },
  {
   "cell_type": "code",
   "execution_count": 31,
   "metadata": {
    "ExecuteTime": {
     "end_time": "2020-03-14T10:36:09.648678Z",
     "start_time": "2020-03-14T10:36:09.093646Z"
    }
   },
   "outputs": [
    {
     "data": {
      "image/png": "[encoded data removed]",
      "text/plain": [
       "<Figure size 1080x720 with 1 Axes>"
      ]
     },
     "metadata": {},
     "output_type": "display_data"
    },
    {
     "data": {
      "text/html": [
       "<div>\n",
       "<style scoped>\n",
       "    .dataframe tbody tr th:only-of-type {\n",
       "        vertical-align: middle;\n",
       "    }\n",
       "\n",
       "    .dataframe tbody tr th {\n",
       "        vertical-align: top;\n",
       "    }\n",
       "\n",
       "    .dataframe thead tr th {\n",
       "        text-align: left;\n",
       "    }\n",
       "\n",
       "    .dataframe thead tr:last-of-type th {\n",
       "        text-align: right;\n",
       "    }\n",
       "</style>\n",
       "<table border=\"1\" class=\"dataframe\">\n",
       "  <thead>\n",
       "    <tr>\n",
       "      <th></th>\n",
       "      <th colspan=\"3\" halign=\"left\">salary_level</th>\n",
       "    </tr>\n",
       "    <tr>\n",
       "      <th>salary_level</th>\n",
       "      <th>high</th>\n",
       "      <th>low</th>\n",
       "      <th>medium</th>\n",
       "    </tr>\n",
       "    <tr>\n",
       "      <th>department</th>\n",
       "      <th></th>\n",
       "      <th></th>\n",
       "      <th></th>\n",
       "    </tr>\n",
       "  </thead>\n",
       "  <tbody>\n",
       "    <tr>\n",
       "      <th>IT</th>\n",
       "      <td>6.8</td>\n",
       "      <td>49.6</td>\n",
       "      <td>43.6</td>\n",
       "    </tr>\n",
       "    <tr>\n",
       "      <th>RandD</th>\n",
       "      <td>6.5</td>\n",
       "      <td>46.3</td>\n",
       "      <td>47.3</td>\n",
       "    </tr>\n",
       "    <tr>\n",
       "      <th>accounting</th>\n",
       "      <td>9.6</td>\n",
       "      <td>46.7</td>\n",
       "      <td>43.7</td>\n",
       "    </tr>\n",
       "    <tr>\n",
       "      <th>hr</th>\n",
       "      <td>6.1</td>\n",
       "      <td>45.3</td>\n",
       "      <td>48.6</td>\n",
       "    </tr>\n",
       "    <tr>\n",
       "      <th>management</th>\n",
       "      <td>35.7</td>\n",
       "      <td>28.6</td>\n",
       "      <td>35.7</td>\n",
       "    </tr>\n",
       "    <tr>\n",
       "      <th>marketing</th>\n",
       "      <td>9.3</td>\n",
       "      <td>46.9</td>\n",
       "      <td>43.8</td>\n",
       "    </tr>\n",
       "    <tr>\n",
       "      <th>product_mng</th>\n",
       "      <td>7.5</td>\n",
       "      <td>50.0</td>\n",
       "      <td>42.5</td>\n",
       "    </tr>\n",
       "    <tr>\n",
       "      <th>sales</th>\n",
       "      <td>6.5</td>\n",
       "      <td>50.7</td>\n",
       "      <td>42.8</td>\n",
       "    </tr>\n",
       "    <tr>\n",
       "      <th>support</th>\n",
       "      <td>6.3</td>\n",
       "      <td>51.4</td>\n",
       "      <td>42.3</td>\n",
       "    </tr>\n",
       "    <tr>\n",
       "      <th>technical</th>\n",
       "      <td>7.4</td>\n",
       "      <td>50.4</td>\n",
       "      <td>42.2</td>\n",
       "    </tr>\n",
       "  </tbody>\n",
       "</table>\n",
       "</div>"
      ],
      "text/plain": [
       "             salary_level             \n",
       "salary_level         high   low medium\n",
       "department                            \n",
       "IT                    6.8  49.6   43.6\n",
       "RandD                 6.5  46.3   47.3\n",
       "accounting            9.6  46.7   43.7\n",
       "hr                    6.1  45.3   48.6\n",
       "management           35.7  28.6   35.7\n",
       "marketing             9.3  46.9   43.8\n",
       "product_mng           7.5  50.0   42.5\n",
       "sales                 6.5  50.7   42.8\n",
       "support               6.3  51.4   42.3\n",
       "technical             7.4  50.4   42.2"
      ]
     },
     "execution_count": 31,
     "metadata": {},
     "output_type": "execute_result"
    }
   ],
   "source": [
    "dataset.groupby(['department'])['salary_level'].value_counts(normalize=True).to_frame().unstack().plot(kind='bar', stacked=True)\n",
    "plt.show()\n",
    "\n",
    "dataset.groupby(['department'])['salary_level'].value_counts(normalize=True).to_frame().unstack().round(3)*100"
   ]
  },
  {
   "cell_type": "markdown",
   "metadata": {},
   "source": [
    "Здесь мы можем увидеть, что распределение зарплат внутри отделов примерно одинаковое за исключением управленческого департамента, в котором доля зарплат высокго уровня значительно выше, чем в остальных департаментах _(зарплаты уровней низкий и средний соответственно ниже)_."
   ]
  },
  {
   "cell_type": "markdown",
   "metadata": {},
   "source": [
    "Посмотрим на распределение зарплат по департаментам без отдела менеджмента."
   ]
  },
  {
   "cell_type": "code",
   "execution_count": 32,
   "metadata": {
    "ExecuteTime": {
     "end_time": "2020-03-14T10:36:10.093703Z",
     "start_time": "2020-03-14T10:36:09.650678Z"
    }
   },
   "outputs": [
    {
     "data": {
      "image/png": "[encoded data removed]",
      "text/plain": [
       "<Figure size 1080x720 with 1 Axes>"
      ]
     },
     "metadata": {},
     "output_type": "display_data"
    }
   ],
   "source": [
    "(\n",
    "dataset\n",
    "     .query('department != \"management\"')\n",
    "     .groupby(['department'])['salary_level']\n",
    "     .value_counts(normalize=True)\n",
    "     .to_frame().unstack()\n",
    ").plot(kind='bar', stacked=True)\n",
    "\n",
    "plt.show()"
   ]
  },
  {
   "cell_type": "markdown",
   "metadata": {},
   "source": [
    "Из столбчатой диаграммы не очень понятно присутствуют ли еще какие-либо различия в распределении зарплат\n",
    "\n",
    "Постороим боксплот"
   ]
  },
  {
   "cell_type": "code",
   "execution_count": 33,
   "metadata": {
    "ExecuteTime": {
     "end_time": "2020-03-14T10:36:10.378720Z",
     "start_time": "2020-03-14T10:36:10.095704Z"
    }
   },
   "outputs": [
    {
     "data": {
      "image/png": "[encoded data removed]",
      "text/plain": [
       "<Figure size 1080x720 with 1 Axes>"
      ]
     },
     "metadata": {},
     "output_type": "display_data"
    }
   ],
   "source": [
    "(\n",
    "dataset\n",
    "    .query('department != \"management\"')\n",
    "    .groupby(['department'])['salary_level']\n",
    "    .value_counts(normalize=True)\n",
    "    .to_frame().unstack()\n",
    ").boxplot()\n",
    "\n",
    "plt.show()"
   ]
  },
  {
   "cell_type": "markdown",
   "metadata": {},
   "source": [
    "Выбросы есть, но не ясно в каких департаментах"
   ]
  },
  {
   "cell_type": "code",
   "execution_count": 34,
   "metadata": {
    "ExecuteTime": {
     "end_time": "2020-03-14T10:36:10.407721Z",
     "start_time": "2020-03-14T10:36:10.380720Z"
    }
   },
   "outputs": [
    {
     "name": "stdout",
     "output_type": "stream",
     "text": [
      "medium level: RandD, hr\n",
      "high level: marketing, accounting\n"
     ]
    }
   ],
   "source": [
    "medium_ = (dataset\n",
    "    .query('department != \"management\"')\n",
    "    .groupby(['department'])['salary_level']\n",
    "    .value_counts(normalize=True)\n",
    "    .unstack().sort_values(by='medium')\n",
    ").tail(2).index\n",
    "\n",
    "high_ = (dataset\n",
    "    .query('department != \"management\"')\n",
    "    .groupby(['department'])['salary_level']\n",
    "    .value_counts(normalize=True)\n",
    "    .unstack().sort_values(by='high')\n",
    ").tail(2).index\n",
    "\n",
    "print(f'medium level: {\", \".join(medium_.to_list())}\\nhigh level: {\", \".join(high_.to_list())}')"
   ]
  },
  {
   "cell_type": "markdown",
   "metadata": {},
   "source": [
    "Итак:\n",
    " - В отделе менеджмента в целом уровень зарплат выше, чем в других отделах\n",
    " - Средний уровень зарплат чаще встречается в отделе кадров и отделе НИОКР\n",
    " - Высокий уровень зарплат чаще встречается в отделах маркетинга и  бухгалтерии"
   ]
  },
  {
   "cell_type": "markdown",
   "metadata": {},
   "source": [
    "## Сколько сотрудников покинули компанию"
   ]
  },
  {
   "cell_type": "code",
   "execution_count": 35,
   "metadata": {
    "ExecuteTime": {
     "end_time": "2020-03-14T10:36:10.415722Z",
     "start_time": "2020-03-14T10:36:10.409722Z"
    }
   },
   "outputs": [
    {
     "data": {
      "text/plain": [
       "3571"
      ]
     },
     "execution_count": 35,
     "metadata": {},
     "output_type": "execute_result"
    }
   ],
   "source": [
    "dataset['is_left'].sum()"
   ]
  },
  {
   "cell_type": "markdown",
   "metadata": {},
   "source": [
    "За все время из компании уволился 3571 человек"
   ]
  },
  {
   "cell_type": "markdown",
   "metadata": {},
   "source": [
    "## Проверить несколько гипотез для данных, чтобы понять почему сотрудники покидают компанию"
   ]
  },
  {
   "cell_type": "markdown",
   "metadata": {},
   "source": [
    "### Определение текучести кадров "
   ]
  },
  {
   "cell_type": "markdown",
   "metadata": {},
   "source": [
    "Минутка гуглежа"
   ]
  },
  {
   "cell_type": "code",
   "execution_count": 36,
   "metadata": {
    "ExecuteTime": {
     "end_time": "2020-03-14T10:36:10.429723Z",
     "start_time": "2020-03-14T10:36:10.417722Z"
    }
   },
   "outputs": [
    {
     "data": {
      "text/html": [
       "\n",
       "        <iframe\n",
       "            width=\"950\"\n",
       "            height=\"300\"\n",
       "            src=\"https://ru.wikipedia.org/wiki/%D0%A2%D0%B5%D0%BA%D1%83%D1%87%D0%B5%D1%81%D1%82%D1%8C_%D0%BA%D0%B0%D0%B4%D1%80%D0%BE%D0%B2\"\n",
       "            frameborder=\"0\"\n",
       "            allowfullscreen\n",
       "        ></iframe>\n",
       "        "
      ],
      "text/plain": [
       "<IPython.lib.display.IFrame at 0x1a1f1a88>"
      ]
     },
     "execution_count": 36,
     "metadata": {},
     "output_type": "execute_result"
    }
   ],
   "source": [
    "link = 'https://ru.wikipedia.org/wiki/%D0%A2%D0%B5%D0%BA%D1%83%D1%87%D0%B5%D1%81%D1%82%D1%8C_%D0%BA%D0%B0%D0%B4%D1%80%D0%BE%D0%B2'\n",
    "width, height = 950, 300\n",
    "IFrame(link, width = width, height = height)"
   ]
  },
  {
   "cell_type": "markdown",
   "metadata": {},
   "source": [
    "**Из статьи мы узнали:**\n",
    " - текучесть 3-5% в год это хорошо\n",
    " - высокая текучесть это плохо\n",
    " - экстремально низкая тоже плохо"
   ]
  },
  {
   "cell_type": "markdown",
   "metadata": {},
   "source": [
    "Но процент сменяемости в реальности может отличатся от \"теоретического\" и может варироваться в зависимости от страны/отрасли/года/компании и т.д."
   ]
  },
  {
   "cell_type": "markdown",
   "metadata": {
    "heading_collapsed": true
   },
   "source": [
    "#### Пример:"
   ]
  },
  {
   "cell_type": "code",
   "execution_count": 37,
   "metadata": {
    "ExecuteTime": {
     "end_time": "2020-03-14T10:36:10.437723Z",
     "start_time": "2020-03-14T10:36:10.431723Z"
    },
    "hidden": true
   },
   "outputs": [
    {
     "data": {
      "text/html": [
       "\n",
       "        <iframe\n",
       "            width=\"871\"\n",
       "            height=\"449\"\n",
       "            src=\"https://antalrussia.ru/upload/medialibrary/cf5/tekuchest-personala-2018-industrii.png\"\n",
       "            frameborder=\"0\"\n",
       "            allowfullscreen\n",
       "        ></iframe>\n",
       "        "
      ],
      "text/plain": [
       "<IPython.lib.display.IFrame at 0x1a1f5608>"
      ]
     },
     "execution_count": 37,
     "metadata": {},
     "output_type": "execute_result"
    }
   ],
   "source": [
    "link = 'https://antalrussia.ru/upload/medialibrary/cf5/tekuchest-personala-2018-industrii.png'\n",
    "width, height = 871, 449\n",
    "IFrame(link, width = width, height = height)"
   ]
  },
  {
   "cell_type": "code",
   "execution_count": 38,
   "metadata": {
    "ExecuteTime": {
     "end_time": "2020-03-14T10:36:10.448724Z",
     "start_time": "2020-03-14T10:36:10.439723Z"
    },
    "hidden": true
   },
   "outputs": [
    {
     "data": {
      "text/html": [
       "\n",
       "        <iframe\n",
       "            width=\"747\"\n",
       "            height=\"684\"\n",
       "            src=\"https://static.probusiness.by/n/07/0/zanyatost_1.jpg\"\n",
       "            frameborder=\"0\"\n",
       "            allowfullscreen\n",
       "        ></iframe>\n",
       "        "
      ],
      "text/plain": [
       "<IPython.lib.display.IFrame at 0x1a1f46c8>"
      ]
     },
     "execution_count": 38,
     "metadata": {},
     "output_type": "execute_result"
    }
   ],
   "source": [
    "link = 'https://static.probusiness.by/n/07/0/zanyatost_1.jpg'\n",
    "width, height = 747, 684\n",
    "IFrame(link, width = width, height = height)"
   ]
  },
  {
   "cell_type": "markdown",
   "metadata": {
    "heading_collapsed": true
   },
   "source": [
    "#### Факторы"
   ]
  },
  {
   "cell_type": "markdown",
   "metadata": {
    "hidden": true
   },
   "source": [
    "Из статьи нам стали известны \n",
    "**факторы, влияющие на текучесть кадров:**\n",
    "- Материальные (неконкурентоспособные ставки оплаты, несправедливая структура оплаты, нестабильные заработки);\n",
    "- Организационные (график, режим, условия работы не соответствующие ожиданиям сотрудника, отсутствие возможности карьерного роста, повышения квалификации);\n",
    "- Межличностные (взаимоотношения с руководством и коллегами).\n",
    "- Возраст сотрудника (наиболее рискованный возраст перехода на другую работу до 25 лет);\n",
    "- Квалификация сотрудника (чем ниже квалификация, тем чаще меняют работу);\n",
    "- Место жительства сотрудника (чем дальше сотрудник живет от работы, тем больше риск его ухода);\n",
    "- Стаж работы на предприятии (после трех лет стажа происходит резкое снижение текучести, что объясняется как фактором возраста, так и проблемами адаптации)."
   ]
  },
  {
   "cell_type": "markdown",
   "metadata": {
    "hidden": true
   },
   "source": [
    "На основе этих факторов можно выдвинуть некоторые гипотезы."
   ]
  },
  {
   "cell_type": "markdown",
   "metadata": {},
   "source": [
    "### Гипотезы"
   ]
  },
  {
   "cell_type": "markdown",
   "metadata": {},
   "source": [
    "На принятие решения влияют:\n",
    " * уровень удовлетворенности\n",
    " * уровень оплаты труда\n",
    " * наличие повышения\n",
    " * наличие/количество переработок\n",
    " * стаж работы в компании (`после трех лет стажа происходит снижение текучести`)"
   ]
  },
  {
   "cell_type": "markdown",
   "metadata": {},
   "source": [
    "### Ушедшие сотрудники"
   ]
  },
  {
   "cell_type": "markdown",
   "metadata": {},
   "source": [
    "Посмотрим на наш датасет еще раз, под дргуими углами."
   ]
  },
  {
   "cell_type": "markdown",
   "metadata": {},
   "source": [
    "Выделим в отдельный датафрейм данные о ушедших сотрудниках.\n",
    "Посчитаем процент уволившихся, а так же их распределение по отделам и уровню зарплаты."
   ]
  },
  {
   "cell_type": "code",
   "execution_count": 39,
   "metadata": {
    "ExecuteTime": {
     "end_time": "2020-03-14T10:36:10.457724Z",
     "start_time": "2020-03-14T10:36:10.450724Z"
    }
   },
   "outputs": [],
   "source": [
    "employees_lefted = dataset[ dataset['is_left']==1 ]"
   ]
  },
  {
   "cell_type": "markdown",
   "metadata": {},
   "source": [
    "Общий уровень текучки для компании:"
   ]
  },
  {
   "cell_type": "code",
   "execution_count": 40,
   "metadata": {
    "ExecuteTime": {
     "end_time": "2020-03-14T10:36:10.465725Z",
     "start_time": "2020-03-14T10:36:10.459724Z"
    }
   },
   "outputs": [
    {
     "name": "stdout",
     "output_type": "stream",
     "text": [
      "percent of left employees: 23.81%\n"
     ]
    }
   ],
   "source": [
    "print(f'percent of left employees: {employees_lefted.shape[0]/dataset.shape[0]:.2%}')"
   ]
  },
  {
   "cell_type": "markdown",
   "metadata": {},
   "source": [
    "**23,81%** всех когда-либо работавших в компании сотрудников уволились.\n",
    "\n",
    "Период за который произошли увольнения (месяц/год/все время) неизвестен.\n"
   ]
  },
  {
   "cell_type": "markdown",
   "metadata": {},
   "source": [
    "В каком отделе этот показатель выше/ниже?"
   ]
  },
  {
   "cell_type": "code",
   "execution_count": 41,
   "metadata": {
    "ExecuteTime": {
     "end_time": "2020-03-14T10:36:10.802744Z",
     "start_time": "2020-03-14T10:36:10.467725Z"
    }
   },
   "outputs": [
    {
     "data": {
      "image/png": "[encoded data removed]",
      "text/plain": [
       "<Figure size 1080x720 with 1 Axes>"
      ]
     },
     "metadata": {},
     "output_type": "display_data"
    },
    {
     "data": {
      "text/html": [
       "<div>\n",
       "<style scoped>\n",
       "    .dataframe tbody tr th:only-of-type {\n",
       "        vertical-align: middle;\n",
       "    }\n",
       "\n",
       "    .dataframe tbody tr th {\n",
       "        vertical-align: top;\n",
       "    }\n",
       "\n",
       "    .dataframe thead th {\n",
       "        text-align: right;\n",
       "    }\n",
       "</style>\n",
       "<table border=\"1\" class=\"dataframe\">\n",
       "  <thead>\n",
       "    <tr style=\"text-align: right;\">\n",
       "      <th></th>\n",
       "      <th>is_left</th>\n",
       "    </tr>\n",
       "    <tr>\n",
       "      <th>department</th>\n",
       "      <th></th>\n",
       "    </tr>\n",
       "  </thead>\n",
       "  <tbody>\n",
       "    <tr>\n",
       "      <th>hr</th>\n",
       "      <td>0.291</td>\n",
       "    </tr>\n",
       "    <tr>\n",
       "      <th>accounting</th>\n",
       "      <td>0.266</td>\n",
       "    </tr>\n",
       "    <tr>\n",
       "      <th>technical</th>\n",
       "      <td>0.256</td>\n",
       "    </tr>\n",
       "    <tr>\n",
       "      <th>support</th>\n",
       "      <td>0.249</td>\n",
       "    </tr>\n",
       "    <tr>\n",
       "      <th>sales</th>\n",
       "      <td>0.245</td>\n",
       "    </tr>\n",
       "    <tr>\n",
       "      <th>marketing</th>\n",
       "      <td>0.237</td>\n",
       "    </tr>\n",
       "    <tr>\n",
       "      <th>IT</th>\n",
       "      <td>0.222</td>\n",
       "    </tr>\n",
       "    <tr>\n",
       "      <th>product_mng</th>\n",
       "      <td>0.220</td>\n",
       "    </tr>\n",
       "    <tr>\n",
       "      <th>RandD</th>\n",
       "      <td>0.154</td>\n",
       "    </tr>\n",
       "    <tr>\n",
       "      <th>management</th>\n",
       "      <td>0.144</td>\n",
       "    </tr>\n",
       "  </tbody>\n",
       "</table>\n",
       "</div>"
      ],
      "text/plain": [
       "             is_left\n",
       "department          \n",
       "hr             0.291\n",
       "accounting     0.266\n",
       "technical      0.256\n",
       "support        0.249\n",
       "sales          0.245\n",
       "marketing      0.237\n",
       "IT             0.222\n",
       "product_mng    0.220\n",
       "RandD          0.154\n",
       "management     0.144"
      ]
     },
     "execution_count": 41,
     "metadata": {},
     "output_type": "execute_result"
    }
   ],
   "source": [
    "dataset.groupby('department')[['is_left']].mean().round(3).sort_values(by='is_left', ascending=False).boxplot()\n",
    "plt.show()\n",
    "\n",
    "dataset.groupby('department')[['is_left']].mean().round(3).sort_values(by='is_left', ascending=False)"
   ]
  },
  {
   "cell_type": "markdown",
   "metadata": {},
   "source": [
    "Сотрудники отделов НИОКР и менеджмента уволились в меньшем количестве от первоначального.\n",
    "\n",
    "Добавим к списку гипотез: _\"род деятельности\"_"
   ]
  },
  {
   "cell_type": "markdown",
   "metadata": {},
   "source": [
    "С каким уровнем зарплаты уволилось больше?"
   ]
  },
  {
   "cell_type": "code",
   "execution_count": 42,
   "metadata": {
    "ExecuteTime": {
     "end_time": "2020-03-14T10:36:10.820745Z",
     "start_time": "2020-03-14T10:36:10.804744Z"
    }
   },
   "outputs": [
    {
     "data": {
      "text/html": [
       "<div>\n",
       "<style scoped>\n",
       "    .dataframe tbody tr th:only-of-type {\n",
       "        vertical-align: middle;\n",
       "    }\n",
       "\n",
       "    .dataframe tbody tr th {\n",
       "        vertical-align: top;\n",
       "    }\n",
       "\n",
       "    .dataframe thead th {\n",
       "        text-align: right;\n",
       "    }\n",
       "</style>\n",
       "<table border=\"1\" class=\"dataframe\">\n",
       "  <thead>\n",
       "    <tr style=\"text-align: right;\">\n",
       "      <th></th>\n",
       "      <th>is_left</th>\n",
       "    </tr>\n",
       "    <tr>\n",
       "      <th>salary_level</th>\n",
       "      <th></th>\n",
       "    </tr>\n",
       "  </thead>\n",
       "  <tbody>\n",
       "    <tr>\n",
       "      <th>low</th>\n",
       "      <td>0.297</td>\n",
       "    </tr>\n",
       "    <tr>\n",
       "      <th>medium</th>\n",
       "      <td>0.204</td>\n",
       "    </tr>\n",
       "    <tr>\n",
       "      <th>high</th>\n",
       "      <td>0.066</td>\n",
       "    </tr>\n",
       "  </tbody>\n",
       "</table>\n",
       "</div>"
      ],
      "text/plain": [
       "              is_left\n",
       "salary_level         \n",
       "low             0.297\n",
       "medium          0.204\n",
       "high            0.066"
      ]
     },
     "execution_count": 42,
     "metadata": {},
     "output_type": "execute_result"
    }
   ],
   "source": [
    "(employees_lefted.groupby('salary_level')['is_left'].count()\n",
    " /dataset.groupby('salary_level')['is_left'].count()\n",
    ").round(3).sort_values(ascending = False).to_frame()"
   ]
  },
  {
   "cell_type": "markdown",
   "metadata": {},
   "source": [
    "Ожидаемо с низким уровнем и чуть меньше с средним"
   ]
  },
  {
   "cell_type": "code",
   "execution_count": 43,
   "metadata": {
    "ExecuteTime": {
     "end_time": "2020-03-14T10:36:10.859747Z",
     "start_time": "2020-03-14T10:36:10.823745Z"
    }
   },
   "outputs": [
    {
     "data": {
      "text/html": [
       "<div>\n",
       "<style scoped>\n",
       "    .dataframe tbody tr th:only-of-type {\n",
       "        vertical-align: middle;\n",
       "    }\n",
       "\n",
       "    .dataframe tbody tr th {\n",
       "        vertical-align: top;\n",
       "    }\n",
       "\n",
       "    .dataframe thead th {\n",
       "        text-align: right;\n",
       "    }\n",
       "</style>\n",
       "<table border=\"1\" class=\"dataframe\">\n",
       "  <thead>\n",
       "    <tr style=\"text-align: right;\">\n",
       "      <th></th>\n",
       "      <th>satisfaction_level</th>\n",
       "      <th>last_feedback_mark</th>\n",
       "      <th>project_number</th>\n",
       "      <th>avg_monthly_hours</th>\n",
       "      <th>years_at_company</th>\n",
       "      <th>work_accident</th>\n",
       "      <th>promotion_last_5years</th>\n",
       "    </tr>\n",
       "    <tr>\n",
       "      <th>is_left</th>\n",
       "      <th></th>\n",
       "      <th></th>\n",
       "      <th></th>\n",
       "      <th></th>\n",
       "      <th></th>\n",
       "      <th></th>\n",
       "      <th></th>\n",
       "    </tr>\n",
       "  </thead>\n",
       "  <tbody>\n",
       "    <tr>\n",
       "      <th>0</th>\n",
       "      <td>0.666810</td>\n",
       "      <td>0.715473</td>\n",
       "      <td>3.786664</td>\n",
       "      <td>199.060203</td>\n",
       "      <td>3.380032</td>\n",
       "      <td>0.175009</td>\n",
       "      <td>0.026251</td>\n",
       "    </tr>\n",
       "    <tr>\n",
       "      <th>1</th>\n",
       "      <td>0.440098</td>\n",
       "      <td>0.718113</td>\n",
       "      <td>3.855503</td>\n",
       "      <td>207.419210</td>\n",
       "      <td>3.876505</td>\n",
       "      <td>0.047326</td>\n",
       "      <td>0.005321</td>\n",
       "    </tr>\n",
       "  </tbody>\n",
       "</table>\n",
       "</div>"
      ],
      "text/plain": [
       "         satisfaction_level  last_feedback_mark  project_number  \\\n",
       "is_left                                                           \n",
       "0                  0.666810            0.715473        3.786664   \n",
       "1                  0.440098            0.718113        3.855503   \n",
       "\n",
       "         avg_monthly_hours  years_at_company  work_accident  \\\n",
       "is_left                                                       \n",
       "0               199.060203          3.380032       0.175009   \n",
       "1               207.419210          3.876505       0.047326   \n",
       "\n",
       "         promotion_last_5years  \n",
       "is_left                         \n",
       "0                     0.026251  \n",
       "1                     0.005321  "
      ]
     },
     "execution_count": 43,
     "metadata": {},
     "output_type": "execute_result"
    }
   ],
   "source": [
    "dataset.groupby('is_left').mean()"
   ]
  },
  {
   "cell_type": "code",
   "execution_count": 44,
   "metadata": {
    "ExecuteTime": {
     "end_time": "2020-03-14T10:36:10.886749Z",
     "start_time": "2020-03-14T10:36:10.861747Z"
    }
   },
   "outputs": [
    {
     "data": {
      "text/html": [
       "<div>\n",
       "<style scoped>\n",
       "    .dataframe tbody tr th:only-of-type {\n",
       "        vertical-align: middle;\n",
       "    }\n",
       "\n",
       "    .dataframe tbody tr th {\n",
       "        vertical-align: top;\n",
       "    }\n",
       "\n",
       "    .dataframe thead th {\n",
       "        text-align: right;\n",
       "    }\n",
       "</style>\n",
       "<table border=\"1\" class=\"dataframe\">\n",
       "  <thead>\n",
       "    <tr style=\"text-align: right;\">\n",
       "      <th></th>\n",
       "      <th>satisfaction_level</th>\n",
       "      <th>last_feedback_mark</th>\n",
       "      <th>project_number</th>\n",
       "      <th>avg_monthly_hours</th>\n",
       "      <th>years_at_company</th>\n",
       "      <th>work_accident</th>\n",
       "      <th>promotion_last_5years</th>\n",
       "    </tr>\n",
       "    <tr>\n",
       "      <th>is_left</th>\n",
       "      <th></th>\n",
       "      <th></th>\n",
       "      <th></th>\n",
       "      <th></th>\n",
       "      <th></th>\n",
       "      <th></th>\n",
       "      <th></th>\n",
       "    </tr>\n",
       "  </thead>\n",
       "  <tbody>\n",
       "    <tr>\n",
       "      <th>0</th>\n",
       "      <td>0.69</td>\n",
       "      <td>0.71</td>\n",
       "      <td>4</td>\n",
       "      <td>198</td>\n",
       "      <td>3</td>\n",
       "      <td>0</td>\n",
       "      <td>0</td>\n",
       "    </tr>\n",
       "    <tr>\n",
       "      <th>1</th>\n",
       "      <td>0.41</td>\n",
       "      <td>0.79</td>\n",
       "      <td>4</td>\n",
       "      <td>224</td>\n",
       "      <td>4</td>\n",
       "      <td>0</td>\n",
       "      <td>0</td>\n",
       "    </tr>\n",
       "  </tbody>\n",
       "</table>\n",
       "</div>"
      ],
      "text/plain": [
       "         satisfaction_level  last_feedback_mark  project_number  \\\n",
       "is_left                                                           \n",
       "0                      0.69                0.71               4   \n",
       "1                      0.41                0.79               4   \n",
       "\n",
       "         avg_monthly_hours  years_at_company  work_accident  \\\n",
       "is_left                                                       \n",
       "0                      198                 3              0   \n",
       "1                      224                 4              0   \n",
       "\n",
       "         promotion_last_5years  \n",
       "is_left                         \n",
       "0                            0  \n",
       "1                            0  "
      ]
     },
     "execution_count": 44,
     "metadata": {},
     "output_type": "execute_result"
    }
   ],
   "source": [
    "dataset.groupby('is_left').median()"
   ]
  },
  {
   "cell_type": "markdown",
   "metadata": {},
   "source": [
    "из этой таблицы видим, что у уволившихся:\n",
    "- уровень удовлетворенности ниже\n",
    "- отработанных часов больше\n",
    "- в среднем работали в компании дольше (обратно нашей гипотезе)"
   ]
  },
  {
   "cell_type": "markdown",
   "metadata": {},
   "source": [
    "Посмотрим на уволившихся в разрезе проектов"
   ]
  },
  {
   "cell_type": "code",
   "execution_count": 45,
   "metadata": {
    "ExecuteTime": {
     "end_time": "2020-03-14T10:36:10.915750Z",
     "start_time": "2020-03-14T10:36:10.889749Z"
    }
   },
   "outputs": [
    {
     "data": {
      "text/html": [
       "<div>\n",
       "<style scoped>\n",
       "    .dataframe tbody tr th:only-of-type {\n",
       "        vertical-align: middle;\n",
       "    }\n",
       "\n",
       "    .dataframe tbody tr th {\n",
       "        vertical-align: top;\n",
       "    }\n",
       "\n",
       "    .dataframe thead th {\n",
       "        text-align: right;\n",
       "    }\n",
       "</style>\n",
       "<table border=\"1\" class=\"dataframe\">\n",
       "  <thead>\n",
       "    <tr style=\"text-align: right;\">\n",
       "      <th>project_number</th>\n",
       "      <th>3</th>\n",
       "      <th>4</th>\n",
       "      <th>5</th>\n",
       "      <th>6</th>\n",
       "      <th>2</th>\n",
       "      <th>7</th>\n",
       "    </tr>\n",
       "  </thead>\n",
       "  <tbody>\n",
       "    <tr>\n",
       "      <th>is_left</th>\n",
       "      <td>0.0178</td>\n",
       "      <td>0.0937</td>\n",
       "      <td>0.2217</td>\n",
       "      <td>0.5579</td>\n",
       "      <td>0.6562</td>\n",
       "      <td>1.0</td>\n",
       "    </tr>\n",
       "  </tbody>\n",
       "</table>\n",
       "</div>"
      ],
      "text/plain": [
       "project_number       3       4       5       6       2    7\n",
       "is_left         0.0178  0.0937  0.2217  0.5579  0.6562  1.0"
      ]
     },
     "execution_count": 45,
     "metadata": {},
     "output_type": "execute_result"
    }
   ],
   "source": [
    "(\n",
    "employees_lefted.groupby(['project_number'])['is_left'].count()\n",
    "/dataset.groupby(['project_number'])['is_left'].count()\n",
    ").round(4).sort_values().to_frame().transpose()"
   ]
  },
  {
   "cell_type": "markdown",
   "metadata": {},
   "source": [
    "Все сотрудники работавшие на проекте7 больше не числятся в компании!\n",
    "\n",
    "Скорее это связано непосредственно с самим проектом (закрытие/продажа/банкротство), а не с устроенным бунтом на корабле.\n",
    "\n",
    "В дальнейшем исследовании эти данные будем игнорировать."
   ]
  },
  {
   "cell_type": "code",
   "execution_count": 46,
   "metadata": {
    "ExecuteTime": {
     "end_time": "2020-03-14T10:36:10.935752Z",
     "start_time": "2020-03-14T10:36:10.917751Z"
    }
   },
   "outputs": [],
   "source": [
    "df = dataset[ dataset['project_number'] != 7 ]"
   ]
  },
  {
   "cell_type": "markdown",
   "metadata": {},
   "source": [
    "### Проверка гипотез"
   ]
  },
  {
   "cell_type": "markdown",
   "metadata": {},
   "source": [
    "#### Подготовка данных"
   ]
  },
  {
   "cell_type": "markdown",
   "metadata": {},
   "source": [
    "Обновленный список гипотез\n",
    "\n",
    "На принятие решения в пользу увольнения влияют:\n",
    " * уровень удовлетворенности\n",
    " * уровень оплаты труда\n",
    " * наличие повышения\n",
    " * наличие/количество переработок\n",
    " * стаж работы в компании\n",
    " * _род деятельности_"
   ]
  },
  {
   "cell_type": "markdown",
   "metadata": {
    "ExecuteTime": {
     "end_time": "2020-03-09T13:09:35.640284Z",
     "start_time": "2020-03-09T13:09:35.602282Z"
    }
   },
   "source": [
    "Решение об увольнении сотрудника, как правило, складывается из нескольких факторов и каждый из их может влиять в той или иной степени."
   ]
  },
  {
   "cell_type": "markdown",
   "metadata": {},
   "source": [
    "У нас остались не нормированные данные"
   ]
  },
  {
   "cell_type": "code",
   "execution_count": 47,
   "metadata": {
    "ExecuteTime": {
     "end_time": "2020-03-14T10:36:10.964753Z",
     "start_time": "2020-03-14T10:36:10.938752Z"
    }
   },
   "outputs": [],
   "source": [
    "min_max_scaler = preprocessing.MinMaxScaler(feature_range=(0,1))"
   ]
  },
  {
   "cell_type": "code",
   "execution_count": 48,
   "metadata": {
    "ExecuteTime": {
     "end_time": "2020-03-14T10:36:11.133763Z",
     "start_time": "2020-03-14T10:36:10.969754Z"
    }
   },
   "outputs": [
    {
     "name": "stderr",
     "output_type": "stream",
     "text": [
      "c:\\users\\xe\\appdata\\local\\programs\\python\\python37\\lib\\site-packages\\ipykernel_launcher.py:1: SettingWithCopyWarning: \n",
      "A value is trying to be set on a copy of a slice from a DataFrame.\n",
      "Try using .loc[row_indexer,col_indexer] = value instead\n",
      "\n",
      "See the caveats in the documentation: http://pandas.pydata.org/pandas-docs/stable/user_guide/indexing.html#returning-a-view-versus-a-copy\n",
      "  \"\"\"Entry point for launching an IPython kernel.\n",
      "c:\\users\\xe\\appdata\\local\\programs\\python\\python37\\lib\\site-packages\\pandas\\core\\indexing.py:494: SettingWithCopyWarning: \n",
      "A value is trying to be set on a copy of a slice from a DataFrame.\n",
      "Try using .loc[row_indexer,col_indexer] = value instead\n",
      "\n",
      "See the caveats in the documentation: http://pandas.pydata.org/pandas-docs/stable/user_guide/indexing.html#returning-a-view-versus-a-copy\n",
      "  self.obj[item] = s\n"
     ]
    }
   ],
   "source": [
    "df[['avg_monthly_hours', 'years_at_company']] = min_max_scaler.fit_transform(df[['avg_monthly_hours', 'years_at_company']])"
   ]
  },
  {
   "cell_type": "markdown",
   "metadata": {
    "ExecuteTime": {
     "end_time": "2020-03-09T16:43:57.975968Z",
     "start_time": "2020-03-09T16:43:57.970967Z"
    }
   },
   "source": [
    "Также нам необходимо представить данные о каждом сотруднике в виде вектора, чтобы можно было их сравнивать между собой."
   ]
  },
  {
   "cell_type": "code",
   "execution_count": 49,
   "metadata": {
    "ExecuteTime": {
     "end_time": "2020-03-14T10:36:11.170765Z",
     "start_time": "2020-03-14T10:36:11.145764Z"
    }
   },
   "outputs": [
    {
     "name": "stderr",
     "output_type": "stream",
     "text": [
      "c:\\users\\xe\\appdata\\local\\programs\\python\\python37\\lib\\site-packages\\ipykernel_launcher.py:4: SettingWithCopyWarning: \n",
      "A value is trying to be set on a copy of a slice from a DataFrame.\n",
      "Try using .loc[row_indexer,col_indexer] = value instead\n",
      "\n",
      "See the caveats in the documentation: http://pandas.pydata.org/pandas-docs/stable/user_guide/indexing.html#returning-a-view-versus-a-copy\n",
      "  after removing the cwd from sys.path.\n"
     ]
    }
   ],
   "source": [
    "i = 0\n",
    "for grade in df['salary_level'].unique():\n",
    "    grade_binary = grade + '_' + 'salary_level'\n",
    "    df[grade_binary] = df['salary_level'].isin([df['salary_level'].unique()[i]])*1\n",
    "    i += 1"
   ]
  },
  {
   "cell_type": "code",
   "execution_count": 50,
   "metadata": {
    "ExecuteTime": {
     "end_time": "2020-03-14T10:36:11.222768Z",
     "start_time": "2020-03-14T10:36:11.173765Z"
    }
   },
   "outputs": [
    {
     "name": "stderr",
     "output_type": "stream",
     "text": [
      "c:\\users\\xe\\appdata\\local\\programs\\python\\python37\\lib\\site-packages\\ipykernel_launcher.py:4: SettingWithCopyWarning: \n",
      "A value is trying to be set on a copy of a slice from a DataFrame.\n",
      "Try using .loc[row_indexer,col_indexer] = value instead\n",
      "\n",
      "See the caveats in the documentation: http://pandas.pydata.org/pandas-docs/stable/user_guide/indexing.html#returning-a-view-versus-a-copy\n",
      "  after removing the cwd from sys.path.\n"
     ]
    }
   ],
   "source": [
    "i = 0\n",
    "for grade in df['department'].unique():\n",
    "    grade_binary = grade + '_' + 'department'\n",
    "    df[grade_binary] = df['department'].isin([df['department'].unique()[i]])*1\n",
    "    i += 1"
   ]
  },
  {
   "cell_type": "code",
   "execution_count": 51,
   "metadata": {
    "ExecuteTime": {
     "end_time": "2020-03-14T10:36:11.238769Z",
     "start_time": "2020-03-14T10:36:11.226768Z"
    }
   },
   "outputs": [],
   "source": [
    "df = df.drop(['department', 'salary_level', 'project_number'], axis=1)"
   ]
  },
  {
   "cell_type": "code",
   "execution_count": 52,
   "metadata": {
    "ExecuteTime": {
     "end_time": "2020-03-14T10:36:11.266771Z",
     "start_time": "2020-03-14T10:36:11.242769Z"
    }
   },
   "outputs": [
    {
     "data": {
      "text/html": [
       "<div>\n",
       "<style scoped>\n",
       "    .dataframe tbody tr th:only-of-type {\n",
       "        vertical-align: middle;\n",
       "    }\n",
       "\n",
       "    .dataframe tbody tr th {\n",
       "        vertical-align: top;\n",
       "    }\n",
       "\n",
       "    .dataframe thead th {\n",
       "        text-align: right;\n",
       "    }\n",
       "</style>\n",
       "<table border=\"1\" class=\"dataframe\">\n",
       "  <thead>\n",
       "    <tr style=\"text-align: right;\">\n",
       "      <th></th>\n",
       "      <th>satisfaction_level</th>\n",
       "      <th>last_feedback_mark</th>\n",
       "      <th>avg_monthly_hours</th>\n",
       "      <th>years_at_company</th>\n",
       "      <th>work_accident</th>\n",
       "      <th>is_left</th>\n",
       "      <th>promotion_last_5years</th>\n",
       "      <th>low_salary_level</th>\n",
       "      <th>medium_salary_level</th>\n",
       "      <th>high_salary_level</th>\n",
       "      <th>sales_department</th>\n",
       "      <th>accounting_department</th>\n",
       "      <th>hr_department</th>\n",
       "      <th>technical_department</th>\n",
       "      <th>support_department</th>\n",
       "      <th>management_department</th>\n",
       "      <th>IT_department</th>\n",
       "      <th>product_mng_department</th>\n",
       "      <th>marketing_department</th>\n",
       "      <th>RandD_department</th>\n",
       "    </tr>\n",
       "  </thead>\n",
       "  <tbody>\n",
       "    <tr>\n",
       "      <th>0</th>\n",
       "      <td>0.38</td>\n",
       "      <td>0.53</td>\n",
       "      <td>0.285047</td>\n",
       "      <td>0.125</td>\n",
       "      <td>0</td>\n",
       "      <td>1</td>\n",
       "      <td>0</td>\n",
       "      <td>1</td>\n",
       "      <td>0</td>\n",
       "      <td>0</td>\n",
       "      <td>1</td>\n",
       "      <td>0</td>\n",
       "      <td>0</td>\n",
       "      <td>0</td>\n",
       "      <td>0</td>\n",
       "      <td>0</td>\n",
       "      <td>0</td>\n",
       "      <td>0</td>\n",
       "      <td>0</td>\n",
       "      <td>0</td>\n",
       "    </tr>\n",
       "    <tr>\n",
       "      <th>1</th>\n",
       "      <td>0.80</td>\n",
       "      <td>0.86</td>\n",
       "      <td>0.775701</td>\n",
       "      <td>0.500</td>\n",
       "      <td>0</td>\n",
       "      <td>1</td>\n",
       "      <td>0</td>\n",
       "      <td>0</td>\n",
       "      <td>1</td>\n",
       "      <td>0</td>\n",
       "      <td>1</td>\n",
       "      <td>0</td>\n",
       "      <td>0</td>\n",
       "      <td>0</td>\n",
       "      <td>0</td>\n",
       "      <td>0</td>\n",
       "      <td>0</td>\n",
       "      <td>0</td>\n",
       "      <td>0</td>\n",
       "      <td>0</td>\n",
       "    </tr>\n",
       "    <tr>\n",
       "      <th>3</th>\n",
       "      <td>0.72</td>\n",
       "      <td>0.87</td>\n",
       "      <td>0.593458</td>\n",
       "      <td>0.375</td>\n",
       "      <td>0</td>\n",
       "      <td>1</td>\n",
       "      <td>0</td>\n",
       "      <td>1</td>\n",
       "      <td>0</td>\n",
       "      <td>0</td>\n",
       "      <td>1</td>\n",
       "      <td>0</td>\n",
       "      <td>0</td>\n",
       "      <td>0</td>\n",
       "      <td>0</td>\n",
       "      <td>0</td>\n",
       "      <td>0</td>\n",
       "      <td>0</td>\n",
       "      <td>0</td>\n",
       "      <td>0</td>\n",
       "    </tr>\n",
       "    <tr>\n",
       "      <th>4</th>\n",
       "      <td>0.37</td>\n",
       "      <td>0.52</td>\n",
       "      <td>0.294393</td>\n",
       "      <td>0.125</td>\n",
       "      <td>0</td>\n",
       "      <td>1</td>\n",
       "      <td>0</td>\n",
       "      <td>1</td>\n",
       "      <td>0</td>\n",
       "      <td>0</td>\n",
       "      <td>1</td>\n",
       "      <td>0</td>\n",
       "      <td>0</td>\n",
       "      <td>0</td>\n",
       "      <td>0</td>\n",
       "      <td>0</td>\n",
       "      <td>0</td>\n",
       "      <td>0</td>\n",
       "      <td>0</td>\n",
       "      <td>0</td>\n",
       "    </tr>\n",
       "    <tr>\n",
       "      <th>5</th>\n",
       "      <td>0.41</td>\n",
       "      <td>0.50</td>\n",
       "      <td>0.266355</td>\n",
       "      <td>0.125</td>\n",
       "      <td>0</td>\n",
       "      <td>1</td>\n",
       "      <td>0</td>\n",
       "      <td>1</td>\n",
       "      <td>0</td>\n",
       "      <td>0</td>\n",
       "      <td>1</td>\n",
       "      <td>0</td>\n",
       "      <td>0</td>\n",
       "      <td>0</td>\n",
       "      <td>0</td>\n",
       "      <td>0</td>\n",
       "      <td>0</td>\n",
       "      <td>0</td>\n",
       "      <td>0</td>\n",
       "      <td>0</td>\n",
       "    </tr>\n",
       "  </tbody>\n",
       "</table>\n",
       "</div>"
      ],
      "text/plain": [
       "   satisfaction_level  last_feedback_mark  avg_monthly_hours  \\\n",
       "0                0.38                0.53           0.285047   \n",
       "1                0.80                0.86           0.775701   \n",
       "3                0.72                0.87           0.593458   \n",
       "4                0.37                0.52           0.294393   \n",
       "5                0.41                0.50           0.266355   \n",
       "\n",
       "   years_at_company  work_accident  is_left  promotion_last_5years  \\\n",
       "0             0.125              0        1                      0   \n",
       "1             0.500              0        1                      0   \n",
       "3             0.375              0        1                      0   \n",
       "4             0.125              0        1                      0   \n",
       "5             0.125              0        1                      0   \n",
       "\n",
       "   low_salary_level  medium_salary_level  high_salary_level  sales_department  \\\n",
       "0                 1                    0                  0                 1   \n",
       "1                 0                    1                  0                 1   \n",
       "3                 1                    0                  0                 1   \n",
       "4                 1                    0                  0                 1   \n",
       "5                 1                    0                  0                 1   \n",
       "\n",
       "   accounting_department  hr_department  technical_department  \\\n",
       "0                      0              0                     0   \n",
       "1                      0              0                     0   \n",
       "3                      0              0                     0   \n",
       "4                      0              0                     0   \n",
       "5                      0              0                     0   \n",
       "\n",
       "   support_department  management_department  IT_department  \\\n",
       "0                   0                      0              0   \n",
       "1                   0                      0              0   \n",
       "3                   0                      0              0   \n",
       "4                   0                      0              0   \n",
       "5                   0                      0              0   \n",
       "\n",
       "   product_mng_department  marketing_department  RandD_department  \n",
       "0                       0                     0                 0  \n",
       "1                       0                     0                 0  \n",
       "3                       0                     0                 0  \n",
       "4                       0                     0                 0  \n",
       "5                       0                     0                 0  "
      ]
     },
     "execution_count": 52,
     "metadata": {},
     "output_type": "execute_result"
    }
   ],
   "source": [
    "df.head()"
   ]
  },
  {
   "cell_type": "code",
   "execution_count": 53,
   "metadata": {
    "ExecuteTime": {
     "end_time": "2020-03-14T10:36:11.275771Z",
     "start_time": "2020-03-14T10:36:11.269771Z"
    }
   },
   "outputs": [
    {
     "data": {
      "text/plain": [
       "(14743, 20)"
      ]
     },
     "execution_count": 53,
     "metadata": {},
     "output_type": "execute_result"
    }
   ],
   "source": [
    "df.shape"
   ]
  },
  {
   "cell_type": "markdown",
   "metadata": {},
   "source": [
    "#### Random Forest"
   ]
  },
  {
   "cell_type": "code",
   "execution_count": 54,
   "metadata": {
    "ExecuteTime": {
     "end_time": "2020-03-14T10:36:11.285772Z",
     "start_time": "2020-03-14T10:36:11.278771Z"
    }
   },
   "outputs": [],
   "source": [
    "X = df.loc[:, df.columns != 'is_left']\n",
    "y = df['is_left']"
   ]
  },
  {
   "cell_type": "code",
   "execution_count": 55,
   "metadata": {
    "ExecuteTime": {
     "end_time": "2020-03-14T10:36:11.305773Z",
     "start_time": "2020-03-14T10:36:11.288772Z"
    }
   },
   "outputs": [],
   "source": [
    "X_train, X_test, y_train, y_test = train_test_split(X, y, test_size=0.3, random_state=0)"
   ]
  },
  {
   "cell_type": "code",
   "execution_count": 56,
   "metadata": {
    "ExecuteTime": {
     "end_time": "2020-03-14T10:36:22.445410Z",
     "start_time": "2020-03-14T10:36:11.308773Z"
    }
   },
   "outputs": [
    {
     "name": "stdout",
     "output_type": "stream",
     "text": [
      "              precision    recall  f1-score   support\n",
      "\n",
      "           0       0.99      1.00      0.99      3426\n",
      "           1       0.99      0.97      0.98       997\n",
      "\n",
      "    accuracy                           0.99      4423\n",
      "   macro avg       0.99      0.98      0.99      4423\n",
      "weighted avg       0.99      0.99      0.99      4423\n",
      "\n",
      "model accuracy: 99.186%\n"
     ]
    }
   ],
   "source": [
    "model=RandomForestClassifier(n_estimators=1000)\n",
    "model.fit(X_train,y_train)\n",
    "\n",
    "headers = list(X_train.columns.values)\n",
    "\n",
    "feature_importance = pd.Series(model.feature_importances_,index=headers).sort_values(ascending=False)\n",
    "\n",
    "model_pred = model.predict(X_test)\n",
    "print(classification_report(y_test, model_pred))\n",
    "\n",
    "print(f'model accuracy: {model.score(X_test, y_test):.3%}')"
   ]
  },
  {
   "cell_type": "markdown",
   "metadata": {},
   "source": [
    "**Модель показала точность 99%**"
   ]
  },
  {
   "cell_type": "markdown",
   "metadata": {},
   "source": [
    "### Выводы"
   ]
  },
  {
   "cell_type": "code",
   "execution_count": 57,
   "metadata": {
    "ExecuteTime": {
     "end_time": "2020-03-14T10:36:23.040444Z",
     "start_time": "2020-03-14T10:36:22.448410Z"
    }
   },
   "outputs": [
    {
     "data": {
      "image/png": "[encoded data removed]",
      "text/plain": [
       "<Figure size 432x432 with 1 Axes>"
      ]
     },
     "metadata": {},
     "output_type": "display_data"
    },
    {
     "data": {
      "text/html": [
       "<div>\n",
       "<style scoped>\n",
       "    .dataframe tbody tr th:only-of-type {\n",
       "        vertical-align: middle;\n",
       "    }\n",
       "\n",
       "    .dataframe tbody tr th {\n",
       "        vertical-align: top;\n",
       "    }\n",
       "\n",
       "    .dataframe thead th {\n",
       "        text-align: right;\n",
       "    }\n",
       "</style>\n",
       "<table border=\"1\" class=\"dataframe\">\n",
       "  <thead>\n",
       "    <tr style=\"text-align: right;\">\n",
       "      <th></th>\n",
       "      <th>index</th>\n",
       "      <th>0</th>\n",
       "    </tr>\n",
       "  </thead>\n",
       "  <tbody>\n",
       "    <tr>\n",
       "      <th>0</th>\n",
       "      <td>satisfaction_level</td>\n",
       "      <td>0.3785</td>\n",
       "    </tr>\n",
       "    <tr>\n",
       "      <th>1</th>\n",
       "      <td>years_at_company</td>\n",
       "      <td>0.2214</td>\n",
       "    </tr>\n",
       "    <tr>\n",
       "      <th>2</th>\n",
       "      <td>avg_monthly_hours</td>\n",
       "      <td>0.1836</td>\n",
       "    </tr>\n",
       "    <tr>\n",
       "      <th>3</th>\n",
       "      <td>last_feedback_mark</td>\n",
       "      <td>0.1589</td>\n",
       "    </tr>\n",
       "    <tr>\n",
       "      <th>4</th>\n",
       "      <td>work_accident</td>\n",
       "      <td>0.0128</td>\n",
       "    </tr>\n",
       "    <tr>\n",
       "      <th>5</th>\n",
       "      <td>low_salary_level</td>\n",
       "      <td>0.0077</td>\n",
       "    </tr>\n",
       "    <tr>\n",
       "      <th>6</th>\n",
       "      <td>high_salary_level</td>\n",
       "      <td>0.0060</td>\n",
       "    </tr>\n",
       "    <tr>\n",
       "      <th>7</th>\n",
       "      <td>sales_department</td>\n",
       "      <td>0.0043</td>\n",
       "    </tr>\n",
       "    <tr>\n",
       "      <th>8</th>\n",
       "      <td>technical_department</td>\n",
       "      <td>0.0042</td>\n",
       "    </tr>\n",
       "    <tr>\n",
       "      <th>9</th>\n",
       "      <td>medium_salary_level</td>\n",
       "      <td>0.0040</td>\n",
       "    </tr>\n",
       "  </tbody>\n",
       "</table>\n",
       "</div>"
      ],
      "text/plain": [
       "                  index       0\n",
       "0    satisfaction_level  0.3785\n",
       "1      years_at_company  0.2214\n",
       "2     avg_monthly_hours  0.1836\n",
       "3    last_feedback_mark  0.1589\n",
       "4         work_accident  0.0128\n",
       "5      low_salary_level  0.0077\n",
       "6     high_salary_level  0.0060\n",
       "7      sales_department  0.0043\n",
       "8  technical_department  0.0042\n",
       "9   medium_salary_level  0.0040"
      ]
     },
     "execution_count": 57,
     "metadata": {},
     "output_type": "execute_result"
    }
   ],
   "source": [
    "f, ax = plt.subplots(figsize=(6, 6))\n",
    "sns.barplot(x=feature_importance, y=feature_importance.index)\n",
    "plt.show()\n",
    "\n",
    "feature_importance.to_frame().round(4).reset_index().head(10)"
   ]
  },
  {
   "cell_type": "code",
   "execution_count": 58,
   "metadata": {
    "ExecuteTime": {
     "end_time": "2020-03-14T10:36:23.070446Z",
     "start_time": "2020-03-14T10:36:23.042444Z"
    }
   },
   "outputs": [
    {
     "data": {
      "text/html": [
       "<div>\n",
       "<style scoped>\n",
       "    .dataframe tbody tr th:only-of-type {\n",
       "        vertical-align: middle;\n",
       "    }\n",
       "\n",
       "    .dataframe tbody tr th {\n",
       "        vertical-align: top;\n",
       "    }\n",
       "\n",
       "    .dataframe thead th {\n",
       "        text-align: right;\n",
       "    }\n",
       "</style>\n",
       "<table border=\"1\" class=\"dataframe\">\n",
       "  <thead>\n",
       "    <tr style=\"text-align: right;\">\n",
       "      <th></th>\n",
       "      <th>satisfaction_level</th>\n",
       "      <th>last_feedback_mark</th>\n",
       "      <th>avg_monthly_hours</th>\n",
       "      <th>years_at_company</th>\n",
       "      <th>work_accident</th>\n",
       "      <th>promotion_last_5years</th>\n",
       "      <th>low_salary_level</th>\n",
       "    </tr>\n",
       "    <tr>\n",
       "      <th>is_left</th>\n",
       "      <th></th>\n",
       "      <th></th>\n",
       "      <th></th>\n",
       "      <th></th>\n",
       "      <th></th>\n",
       "      <th></th>\n",
       "      <th></th>\n",
       "    </tr>\n",
       "  </thead>\n",
       "  <tbody>\n",
       "    <tr>\n",
       "      <th>0</th>\n",
       "      <td>0.69</td>\n",
       "      <td>0.71</td>\n",
       "      <td>0.476636</td>\n",
       "      <td>0.125</td>\n",
       "      <td>0</td>\n",
       "      <td>0</td>\n",
       "      <td>0</td>\n",
       "    </tr>\n",
       "    <tr>\n",
       "      <th>1</th>\n",
       "      <td>0.42</td>\n",
       "      <td>0.71</td>\n",
       "      <td>0.514019</td>\n",
       "      <td>0.250</td>\n",
       "      <td>0</td>\n",
       "      <td>0</td>\n",
       "      <td>1</td>\n",
       "    </tr>\n",
       "  </tbody>\n",
       "</table>\n",
       "</div>"
      ],
      "text/plain": [
       "         satisfaction_level  last_feedback_mark  avg_monthly_hours  \\\n",
       "is_left                                                              \n",
       "0                      0.69                0.71           0.476636   \n",
       "1                      0.42                0.71           0.514019   \n",
       "\n",
       "         years_at_company  work_accident  promotion_last_5years  \\\n",
       "is_left                                                           \n",
       "0                   0.125              0                      0   \n",
       "1                   0.250              0                      0   \n",
       "\n",
       "         low_salary_level  \n",
       "is_left                    \n",
       "0                       0  \n",
       "1                       1  "
      ]
     },
     "execution_count": 58,
     "metadata": {},
     "output_type": "execute_result"
    }
   ],
   "source": [
    "df.groupby('is_left').median().iloc[:,:7]"
   ]
  },
  {
   "cell_type": "markdown",
   "metadata": {},
   "source": [
    "Вернемся к гипотезам.\n",
    "\n",
    "**На принятие решения в сильной степени влияют:**\n",
    "\n",
    "* уровень удовлетворенности\n",
    "\n",
    "у уволившихся сотрудников уровень удовлетворенности ниже, чем у тех кто остался\n",
    "\n",
    "* стаж работы в компании\n",
    "\n",
    "вопреки информации из Википедии, наши наблюдения говорят, что после трех лет работы люди склонны менять место"
   ]
  },
  {
   "cell_type": "code",
   "execution_count": 59,
   "metadata": {
    "ExecuteTime": {
     "end_time": "2020-03-14T10:36:23.104448Z",
     "start_time": "2020-03-14T10:36:23.072446Z"
    }
   },
   "outputs": [
    {
     "data": {
      "text/plain": [
       "0.07843137254901955"
      ]
     },
     "execution_count": 59,
     "metadata": {},
     "output_type": "execute_result"
    }
   ],
   "source": [
    "df.groupby('is_left').median()['avg_monthly_hours'][1]/df.groupby('is_left').median()['avg_monthly_hours'][0]-1"
   ]
  },
  {
   "cell_type": "markdown",
   "metadata": {},
   "source": [
    "* наличие/количество переработок\n",
    "\n",
    "медианное значение среднемесячной выработки часов у уволившихся сотрудников выше на **7.84%**\n",
    "\n",
    " * последняя оценка сотрудника *(не было среди наших гипотез)*\n",
    " \n",
    "модель показывает, что оценка сотрудника влияет, несмотря на то, что медианные значения совпадают о обеих групп"
   ]
  },
  {
   "cell_type": "markdown",
   "metadata": {},
   "source": [
    "**На принятие решения незначительно влияют:**\n",
    "\n",
    " * происшествия/несчастные случаи *(не было среди наших гипотез)*"
   ]
  },
  {
   "cell_type": "markdown",
   "metadata": {},
   "source": [
    "Что касается остальных гипотез:\n",
    "* уровень оплаты труда\n",
    "\n",
    "почти не влияет \n",
    "\n",
    " * наличие повышения\n",
    "\n",
    "совсем не влияет\n",
    "\n",
    " * род деятельности\n",
    " \n",
    "очень слабо влияет (для отдела продаж и технического отдела)\n",
    "\n",
    "несмотря, что отдел подбора персонала был рекордсменом по количеству ушедших сотрудников"
   ]
  }
 ],
 "metadata": {
  "hide_input": false,
  "kernelspec": {
   "display_name": "Python 3",
   "language": "python",
   "name": "python3"
  },
  "language_info": {
   "codemirror_mode": {
    "name": "ipython",
    "version": 3
   },
   "file_extension": ".py",
   "mimetype": "text/x-python",
   "name": "python",
   "nbconvert_exporter": "python",
   "pygments_lexer": "ipython3",
   "version": "3.7.6"
  },
  "toc": {
   "base_numbering": 1,
   "nav_menu": {},
   "number_sections": true,
   "sideBar": true,
   "skip_h1_title": true,
   "title_cell": "Table of Contents",
   "title_sidebar": "Contents",
   "toc_cell": true,
   "toc_position": {},
   "toc_section_display": true,
   "toc_window_display": false
  },
  "varInspector": {
   "cols": {
    "lenName": 16,
    "lenType": 16,
    "lenVar": 40
   },
   "kernels_config": {
    "python": {
     "delete_cmd_postfix": "",
     "delete_cmd_prefix": "del ",
     "library": "var_list.py",
     "varRefreshCmd": "print(var_dic_list())"
    },
    "r": {
     "delete_cmd_postfix": ") ",
     "delete_cmd_prefix": "rm(",
     "library": "var_list.r",
     "varRefreshCmd": "cat(var_dic_list()) "
    }
   },
   "position": {
    "height": "144px",
    "left": "894px",
    "right": "20px",
    "top": "119px",
    "width": "350px"
   },
   "types_to_exclude": [
    "module",
    "function",
    "builtin_function_or_method",
    "instance",
    "_Feature"
   ],
   "window_display": false
  }
 },
 "nbformat": 4,
 "nbformat_minor": 4
}
